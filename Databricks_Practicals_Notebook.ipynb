{
 "cells": [
  {
   "cell_type": "markdown",
   "metadata": {
    "application/vnd.databricks.v1+cell": {
     "cellMetadata": {},
     "inputWidgets": {},
     "nuid": "6e2cce9f-9ca8-430d-a2ec-a21a16b275cb",
     "showTitle": false,
     "tableResultSettingsMap": {},
     "title": ""
    }
   },
   "source": [
    "#### 1. How to get the data from S3, impliment it practically and how to use mountpoint and get the data from S3 to databricks…impliment with 2 - 3 scenarios with sample example?"
   ]
  },
  {
   "cell_type": "code",
   "execution_count": 0,
   "metadata": {
    "application/vnd.databricks.v1+cell": {
     "cellMetadata": {
      "byteLimit": 2048000,
      "rowLimit": 10000
     },
     "inputWidgets": {},
     "nuid": "99cbf324-7a0e-474d-a066-2b669d959af0",
     "showTitle": false,
     "tableResultSettingsMap": {},
     "title": ""
    }
   },
   "outputs": [
    {
     "output_type": "stream",
     "name": "stdout",
     "output_type": "stream",
     "text": [
      "+-------+----------+-----------+----------+\n|OrderID|CustomerID|OrderAmount| OrderDate|\n+-------+----------+-----------+----------+\n|   1001|      C001|      150.5|2023-08-10|\n|   1002|      C002|       75.2|2023-08-11|\n|   1003|      C001|        250|2023-08-12|\n|   1004|      C003|         50|2023-08-13|\n|   1005|      C002|     300.75|2023-08-14|\n|   1006|      C004|      99.99|2023-08-15|\n|   1007|      C003|      175.1|2023-08-16|\n|   1008|      C005|        125|2023-08-17|\n|   1009|      C001|         80|2023-08-18|\n|   1010|      C006|        200|2023-08-19|\n+-------+----------+-----------+----------+\n\n"
     ]
    }
   ],
   "source": [
    "# Scenario - 1 (Direct Access)\n",
    "\n",
    "df = spark.read.format(\"csv\") \\\n",
    "    .option(\"header\", \"true\") \\\n",
    "    .load(\"s3://abduldbtlearn/SamplePractical.csv\")\n",
    "\n",
    "df.show()\n"
   ]
  },
  {
   "cell_type": "code",
   "execution_count": 0,
   "metadata": {
    "application/vnd.databricks.v1+cell": {
     "cellMetadata": {
      "byteLimit": 2048000,
      "rowLimit": 10000
     },
     "inputWidgets": {},
     "nuid": "de4754a8-5a3a-4455-99ae-6c63616737c1",
     "showTitle": false,
     "tableResultSettingsMap": {},
     "title": ""
    }
   },
   "outputs": [
    {
     "output_type": "stream",
     "name": "stdout",
     "output_type": "stream",
     "text": [
      "S3 Bucket Mounted Successfully!\n"
     ]
    }
   ],
   "source": [
    "# Senario - 2 (Mount S3 Bucket to Databricks)\n",
    "\n",
    "ACCESS_KEY = dbutils.secrets.get(scope=\"testscope\", key=\"aws-access-key\")\n",
    "SECRET_KEY = dbutils.secrets.get(scope=\"testscope\", key=\"aws-secret-key\")\n",
    "\n",
    "AWS_BUCKET_NAME = \"abduldbtlearn\"\n",
    "MOUNT_NAME = \"/mnt/s3bucket\"\n",
    "\n",
    "ENCODED_SECRET_KEY = SECRET_KEY.replace(\"/\", \"%2F\")\n",
    "\n",
    "dbutils.fs.mount(\n",
    "    source = f\"s3a://{ACCESS_KEY}:{ENCODED_SECRET_KEY}@{AWS_BUCKET_NAME}\",\n",
    "    mount_point = MOUNT_NAME\n",
    ")\n",
    "\n",
    "print(\"S3 Bucket Mounted Successfully!\")"
   ]
  },
  {
   "cell_type": "code",
   "execution_count": 0,
   "metadata": {
    "application/vnd.databricks.v1+cell": {
     "cellMetadata": {
      "byteLimit": 2048000,
      "rowLimit": 10000
     },
     "inputWidgets": {},
     "nuid": "3f00e4a7-94bc-467d-86d4-1e4958c32967",
     "showTitle": false,
     "tableResultSettingsMap": {},
     "title": ""
    }
   },
   "outputs": [
    {
     "output_type": "display_data",
     "data": {
      "text/html": [
       "<style scoped>\n",
       "  .table-result-container {\n",
       "    max-height: 300px;\n",
       "    overflow: auto;\n",
       "  }\n",
       "  table, th, td {\n",
       "    border: 1px solid black;\n",
       "    border-collapse: collapse;\n",
       "  }\n",
       "  th, td {\n",
       "    padding: 5px;\n",
       "  }\n",
       "  th {\n",
       "    text-align: left;\n",
       "  }\n",
       "</style><div class='table-result-container'><table class='table-result'><thead style='background-color: white'><tr><th>path</th><th>name</th><th>size</th><th>modificationTime</th></tr></thead><tbody><tr><td>dbfs:/mnt/s3bucket/SamplePractical.csv</td><td>SamplePractical.csv</td><td>308</td><td>1740442681000</td></tr><tr><td>dbfs:/mnt/s3bucket/csv/</td><td>csv/</td><td>0</td><td>1740443111327</td></tr><tr><td>dbfs:/mnt/s3bucket/processed-data/</td><td>processed-data/</td><td>0</td><td>1740443111327</td></tr></tbody></table></div>"
      ]
     },
     "metadata": {
      "application/vnd.databricks.v1+output": {
       "addedWidgets": {},
       "aggData": [],
       "aggError": "",
       "aggOverflow": false,
       "aggSchema": [],
       "aggSeriesLimitReached": false,
       "aggType": "",
       "arguments": {},
       "columnCustomDisplayInfos": {},
       "data": [
        [
         "dbfs:/mnt/s3bucket/SamplePractical.csv",
         "SamplePractical.csv",
         308,
         1740442681000
        ],
        [
         "dbfs:/mnt/s3bucket/csv/",
         "csv/",
         0,
         1740443111327
        ],
        [
         "dbfs:/mnt/s3bucket/processed-data/",
         "processed-data/",
         0,
         1740443111327
        ]
       ],
       "datasetInfos": [],
       "dbfsResultPath": null,
       "isJsonSchema": true,
       "metadata": {},
       "overflow": false,
       "plotOptions": {
        "customPlotOptions": {},
        "displayType": "table",
        "pivotAggregation": null,
        "pivotColumns": null,
        "xColumns": null,
        "yColumns": null
       },
       "removedWidgets": [],
       "schema": [
        {
         "metadata": "{}",
         "name": "path",
         "type": "\"string\""
        },
        {
         "metadata": "{}",
         "name": "name",
         "type": "\"string\""
        },
        {
         "metadata": "{}",
         "name": "size",
         "type": "\"long\""
        },
        {
         "metadata": "{}",
         "name": "modificationTime",
         "type": "\"long\""
        }
       ],
       "type": "table"
      }
     },
     "output_type": "display_data"
    }
   ],
   "source": [
    "display(dbutils.fs.ls(\"/mnt/s3bucket\"))"
   ]
  },
  {
   "cell_type": "code",
   "execution_count": 0,
   "metadata": {
    "application/vnd.databricks.v1+cell": {
     "cellMetadata": {
      "byteLimit": 2048000,
      "rowLimit": 10000
     },
     "inputWidgets": {},
     "nuid": "aee10ec6-770b-41d6-92ec-3f27f8816dbb",
     "showTitle": false,
     "tableResultSettingsMap": {},
     "title": ""
    }
   },
   "outputs": [
    {
     "output_type": "stream",
     "name": "stdout",
     "output_type": "stream",
     "text": [
      "+-------+----------+-----------+----------+\n|OrderID|CustomerID|OrderAmount| OrderDate|\n+-------+----------+-----------+----------+\n|   1001|      C001|      150.5|2023-08-10|\n|   1002|      C002|       75.2|2023-08-11|\n|   1003|      C001|        250|2023-08-12|\n|   1004|      C003|         50|2023-08-13|\n|   1005|      C002|     300.75|2023-08-14|\n|   1006|      C004|      99.99|2023-08-15|\n|   1007|      C003|      175.1|2023-08-16|\n|   1008|      C005|        125|2023-08-17|\n|   1009|      C001|         80|2023-08-18|\n|   1010|      C006|        200|2023-08-19|\n+-------+----------+-----------+----------+\n\n"
     ]
    }
   ],
   "source": [
    "df = spark.read.format(\"csv\").option(\"header\", \"true\").load(\"dbfs:/mnt/s3bucket/SamplePractical.csv\")\n",
    "df.show()"
   ]
  },
  {
   "cell_type": "code",
   "execution_count": 0,
   "metadata": {
    "application/vnd.databricks.v1+cell": {
     "cellMetadata": {
      "byteLimit": 2048000,
      "rowLimit": 10000
     },
     "inputWidgets": {},
     "nuid": "7b9bf165-6310-4875-995b-6f718ec6574f",
     "showTitle": false,
     "tableResultSettingsMap": {},
     "title": ""
    }
   },
   "outputs": [
    {
     "output_type": "stream",
     "name": "stdout",
     "output_type": "stream",
     "text": [
      "+-------+----------+-----------+----------+\n|OrderID|CustomerID|OrderAmount| OrderDate|\n+-------+----------+-----------+----------+\n|   1001|      C001|      150.5|2023-08-10|\n|   1002|      C002|       75.2|2023-08-11|\n|   1003|      C001|        250|2023-08-12|\n|   1004|      C003|         50|2023-08-13|\n|   1005|      C002|     300.75|2023-08-14|\n|   1006|      C004|      99.99|2023-08-15|\n|   1007|      C003|      175.1|2023-08-16|\n|   1008|      C005|        125|2023-08-17|\n|   1009|      C001|         80|2023-08-18|\n|   1010|      C006|        200|2023-08-19|\n+-------+----------+-----------+----------+\n\n"
     ]
    }
   ],
   "source": [
    "# Senario - 3 (Using IAM Role-Based Access)\n",
    "\n",
    "df1 = spark.read.format(\"csv\") \\\n",
    "    .option(\"header\", \"true\") \\\n",
    "    .load(\"s3://abduldbtlearn/SamplePractical.csv\")\n",
    "\n",
    "df1.show()"
   ]
  },
  {
   "cell_type": "markdown",
   "metadata": {
    "application/vnd.databricks.v1+cell": {
     "cellMetadata": {},
     "inputWidgets": {},
     "nuid": "a51b80d6-cfce-41d0-97c3-60bb32a26682",
     "showTitle": false,
     "tableResultSettingsMap": {},
     "title": ""
    }
   },
   "source": [
    "#### 2. Where will you check data skewness in DataBricks? Impliment dataskweness in databricks and write a code to handle that in databricks? Impliment with a scenario"
   ]
  },
  {
   "cell_type": "code",
   "execution_count": 0,
   "metadata": {
    "application/vnd.databricks.v1+cell": {
     "cellMetadata": {
      "byteLimit": 2048000,
      "rowLimit": 10000
     },
     "inputWidgets": {},
     "nuid": "6a6c8177-ec10-4e97-b46e-0cd8d6bf70d6",
     "showTitle": false,
     "tableResultSettingsMap": {},
     "title": ""
    }
   },
   "outputs": [
    {
     "output_type": "stream",
     "name": "stdout",
     "output_type": "stream",
     "text": [
      "+--------+-------+\n|order_id|  store|\n+--------+-------+\n|       1|Store_A|\n|       2|Store_B|\n|       3|Store_C|\n|       4|Store_A|\n|       5|Store_A|\n|       6|Store_A|\n|       7|Store_A|\n|       8|Store_A|\n|       9|Store_B|\n|      10|Store_A|\n|       1|Store_A|\n|       2|Store_B|\n|       3|Store_C|\n|       4|Store_A|\n|       5|Store_A|\n|       6|Store_A|\n|       7|Store_A|\n|       8|Store_A|\n|       9|Store_B|\n|      10|Store_A|\n+--------+-------+\nonly showing top 20 rows\n\n"
     ]
    }
   ],
   "source": [
    "from pyspark.sql.functions import *\n",
    "\n",
    "# Creating a sample DataFrame with skewed data\n",
    "data = [(1, \"Store_A\"), (2, \"Store_B\"), (3, \"Store_C\"), (4, \"Store_A\"), \n",
    "        (5, \"Store_A\"), (6, \"Store_A\"), (7, \"Store_A\"), (8, \"Store_A\"), \n",
    "        (9, \"Store_B\"), (10, \"Store_A\")] * 1000  # Skewing Store_A data\n",
    "\n",
    "df2 = spark.createDataFrame(data, [\"order_id\", \"store\"])\n",
    "df2.show()"
   ]
  },
  {
   "cell_type": "code",
   "execution_count": 0,
   "metadata": {
    "application/vnd.databricks.v1+cell": {
     "cellMetadata": {
      "byteLimit": 2048000,
      "rowLimit": 10000
     },
     "inputWidgets": {},
     "nuid": "8de93666-5511-4a08-9e0a-18a32e71bd63",
     "showTitle": false,
     "tableResultSettingsMap": {},
     "title": ""
    }
   },
   "outputs": [
    {
     "output_type": "stream",
     "name": "stdout",
     "output_type": "stream",
     "text": [
      "+-------+-----+\n|  store|count|\n+-------+-----+\n|Store_A| 7000|\n|Store_B| 2000|\n|Store_C| 1000|\n+-------+-----+\n\n"
     ]
    }
   ],
   "source": [
    "# Checking Data Skewness\n",
    "df2.groupBy(\"store\").count().orderBy(col(\"count\").desc()).show()\n"
   ]
  },
  {
   "cell_type": "code",
   "execution_count": 0,
   "metadata": {
    "application/vnd.databricks.v1+cell": {
     "cellMetadata": {
      "byteLimit": 2048000,
      "rowLimit": 10000
     },
     "inputWidgets": {},
     "nuid": "20536686-396c-4202-85d5-0edf6bd9698c",
     "showTitle": false,
     "tableResultSettingsMap": {},
     "title": ""
    }
   },
   "outputs": [
    {
     "output_type": "stream",
     "name": "stdout",
     "output_type": "stream",
     "text": [
      "+------------+-----+\n|store_salted|count|\n+------------+-----+\n|   Store_A_2| 1430|\n|   Store_A_3| 1416|\n|   Store_A_1| 1397|\n|   Store_A_0| 1392|\n|   Store_A_4| 1365|\n|   Store_B_2|  409|\n|   Store_B_0|  407|\n|   Store_B_3|  406|\n|   Store_B_4|  403|\n|   Store_B_1|  375|\n|   Store_C_3|  212|\n|   Store_C_1|  207|\n|   Store_C_2|  198|\n|   Store_C_4|  192|\n|   Store_C_0|  191|\n+------------+-----+\n\n"
     ]
    }
   ],
   "source": [
    "# Adding a salt key\n",
    "df2 = df2.withColumn(\"salt\", floor(rand() * 5))\n",
    "df2 = df2.withColumn(\"store_salted\", concat(col(\"store\"), lit(\"_\"), col(\"salt\")))\n",
    "# df2.show()\n",
    "df2.groupBy(\"store_salted\").count().orderBy(col(\"count\").desc()).show()"
   ]
  },
  {
   "cell_type": "code",
   "execution_count": 0,
   "metadata": {
    "application/vnd.databricks.v1+cell": {
     "cellMetadata": {
      "byteLimit": 2048000,
      "rowLimit": 10000
     },
     "inputWidgets": {},
     "nuid": "0bff1385-d77a-4896-b21f-3adf6c363d6f",
     "showTitle": false,
     "tableResultSettingsMap": {},
     "title": ""
    }
   },
   "outputs": [],
   "source": [
    "# Creating a Reference Table\n",
    "\n",
    "store_info_data = [\n",
    "    (\"Store_A\", \"Electronics\"),\n",
    "    (\"Store_B\", \"Grocery\"),\n",
    "    (\"Store_C\", \"Clothing\")\n",
    "]\n",
    "\n",
    "store_info_df = spark.createDataFrame(store_info_data, [\"store\", \"category\"])\n"
   ]
  },
  {
   "cell_type": "code",
   "execution_count": 0,
   "metadata": {
    "application/vnd.databricks.v1+cell": {
     "cellMetadata": {
      "byteLimit": 2048000,
      "rowLimit": 10000
     },
     "inputWidgets": {},
     "nuid": "2d28f8a9-4ff9-45af-985b-426454865367",
     "showTitle": false,
     "tableResultSettingsMap": {},
     "title": ""
    }
   },
   "outputs": [
    {
     "output_type": "stream",
     "name": "stdout",
     "output_type": "stream",
     "text": [
      "+------------+--------+-------+----+-------+-----------+----+\n|store_salted|order_id|  store|salt|  store|   category|salt|\n+------------+--------+-------+----+-------+-----------+----+\n|   Store_A_1|       5|Store_A|   1|Store_A|Electronics|   1|\n|   Store_A_1|      10|Store_A|   1|Store_A|Electronics|   1|\n|   Store_C_2|       3|Store_C|   2|Store_C|   Clothing|   2|\n|   Store_A_0|       1|Store_A|   0|Store_A|Electronics|   0|\n|   Store_A_2|       4|Store_A|   2|Store_A|Electronics|   2|\n|   Store_A_2|       5|Store_A|   2|Store_A|Electronics|   2|\n|   Store_A_2|       6|Store_A|   2|Store_A|Electronics|   2|\n|   Store_A_0|       7|Store_A|   0|Store_A|Electronics|   0|\n|   Store_A_0|       8|Store_A|   0|Store_A|Electronics|   0|\n|   Store_A_2|      10|Store_A|   2|Store_A|Electronics|   2|\n|   Store_A_2|       7|Store_A|   2|Store_A|Electronics|   2|\n|   Store_A_0|       8|Store_A|   0|Store_A|Electronics|   0|\n|   Store_A_2|       1|Store_A|   2|Store_A|Electronics|   2|\n|   Store_B_4|       9|Store_B|   4|Store_B|    Grocery|   4|\n|   Store_A_4|       6|Store_A|   4|Store_A|Electronics|   4|\n|   Store_B_3|       2|Store_B|   3|Store_B|    Grocery|   3|\n|   Store_C_1|       3|Store_C|   1|Store_C|   Clothing|   1|\n|   Store_B_0|       2|Store_B|   0|Store_B|    Grocery|   0|\n|   Store_B_0|       9|Store_B|   0|Store_B|    Grocery|   0|\n|   Store_A_3|       1|Store_A|   3|Store_A|Electronics|   3|\n+------------+--------+-------+----+-------+-----------+----+\nonly showing top 20 rows\n\n"
     ]
    }
   ],
   "source": [
    "# Expand store_info_df to include all salt values\n",
    "store_info_df = store_info_df.withColumn(\"salt\", explode(array([lit(i) for i in range(5)])))\n",
    "store_info_df = store_info_df.withColumn(\"store_salted\", concat(col(\"store\"), lit(\"_\"), col(\"salt\")))\n",
    "\n",
    "# Perform the join on store_salted instead of store\n",
    "final_df = df2.join(store_info_df, \"store_salted\", \"left\")\n",
    "\n",
    "final_df.show()"
   ]
  },
  {
   "cell_type": "code",
   "execution_count": 0,
   "metadata": {
    "application/vnd.databricks.v1+cell": {
     "cellMetadata": {
      "byteLimit": 2048000,
      "rowLimit": 10000
     },
     "inputWidgets": {},
     "nuid": "c23a7a50-46b3-45c0-9603-eaa327ce1900",
     "showTitle": false,
     "tableResultSettingsMap": {},
     "title": ""
    }
   },
   "outputs": [
    {
     "output_type": "execute_result",
     "data": {
      "text/plain": [
       "4"
      ]
     },
     "execution_count": 28,
     "metadata": {},
     "output_type": "execute_result"
    }
   ],
   "source": [
    "final_df.rdd.getNumPartitions()"
   ]
  },
  {
   "cell_type": "code",
   "execution_count": 0,
   "metadata": {
    "application/vnd.databricks.v1+cell": {
     "cellMetadata": {
      "byteLimit": 2048000,
      "rowLimit": 10000
     },
     "inputWidgets": {},
     "nuid": "69d2e37d-1f7f-4c08-8903-4a0704b2ce35",
     "showTitle": false,
     "tableResultSettingsMap": {},
     "title": ""
    }
   },
   "outputs": [
    {
     "output_type": "execute_result",
     "data": {
      "text/plain": [
       "[2048, 3072, 2048, 2832]"
      ]
     },
     "execution_count": 25,
     "metadata": {},
     "output_type": "execute_result"
    }
   ],
   "source": [
    "final_df.rdd.glom().map(len).collect()"
   ]
  },
  {
   "cell_type": "markdown",
   "metadata": {
    "application/vnd.databricks.v1+cell": {
     "cellMetadata": {},
     "inputWidgets": {},
     "nuid": "4f9391f2-0d43-41f3-a89a-3990c99cc3ba",
     "showTitle": false,
     "tableResultSettingsMap": {},
     "title": ""
    }
   },
   "source": [
    "#### 4. How to implement scd2 in databricks "
   ]
  },
  {
   "cell_type": "code",
   "execution_count": 0,
   "metadata": {
    "application/vnd.databricks.v1+cell": {
     "cellMetadata": {
      "byteLimit": 2048000,
      "rowLimit": 10000
     },
     "inputWidgets": {},
     "nuid": "9c045c5e-3ac3-4846-af83-6e33fe2d431f",
     "showTitle": false,
     "tableResultSettingsMap": {},
     "title": ""
    }
   },
   "outputs": [
    {
     "output_type": "stream",
     "name": "stdout",
     "output_type": "stream",
     "text": [
      "+-----------+-------+-----+----------+\n|customer_id|   name|state|membership|\n+-----------+-------+-----+----------+\n|          1|  Alice|   NY|      Gold|\n|          2|    Bob|   CA|    Silver|\n|          3|Charlie|   TX|      Gold|\n|          4|  David|   FL|  Platinum|\n+-----------+-------+-----+----------+\n\n"
     ]
    }
   ],
   "source": [
    "from pyspark.sql.functions import *\n",
    "\n",
    "data = [\n",
    "    (1, \"Alice\", \"NY\", \"Gold\"),\n",
    "    (2, \"Bob\", \"CA\", \"Silver\"),\n",
    "    (3, \"Charlie\", \"TX\", \"Gold\"),\n",
    "    (4, \"David\", \"FL\", \"Platinum\")  # New customer\n",
    "]\n",
    "\n",
    "columns = [\"customer_id\", \"name\", \"state\", \"membership\"]\n",
    "\n",
    "customers_source = spark.createDataFrame(data, columns)\n",
    "customers_source.show()"
   ]
  },
  {
   "cell_type": "code",
   "execution_count": 0,
   "metadata": {
    "application/vnd.databricks.v1+cell": {
     "cellMetadata": {
      "byteLimit": 2048000,
      "rowLimit": 10000
     },
     "inputWidgets": {},
     "nuid": "f8eded1c-13fa-4841-8571-d2cc3a84d4b3",
     "showTitle": false,
     "tableResultSettingsMap": {},
     "title": ""
    }
   },
   "outputs": [
    {
     "output_type": "stream",
     "name": "stdout",
     "output_type": "stream",
     "text": [
      "+-----------+-------+-----+----------+----------+----------+---------+\n|customer_id|   name|state|membership|start_date|  end_date|is_active|\n+-----------+-------+-----+----------+----------+----------+---------+\n|          1|  Alice|   NY|    Silver|2024-01-01|9999-12-31|        Y|\n|          2|    Bob|   CA|    Silver|2024-01-01|9999-12-31|        Y|\n|          3|Charlie|   TX|  Platinum|2024-01-01|9999-12-31|        Y|\n+-----------+-------+-----+----------+----------+----------+---------+\n\n"
     ]
    }
   ],
   "source": [
    "data = [\n",
    "    (1, \"Alice\", \"NY\", \"Silver\", \"2024-01-01\", \"9999-12-31\", \"Y\"),\n",
    "    (2, \"Bob\", \"CA\", \"Silver\", \"2024-01-01\", \"9999-12-31\", \"Y\"),\n",
    "    (3, \"Charlie\", \"TX\", \"Platinum\", \"2024-01-01\", \"9999-12-31\", \"Y\")\n",
    "]\n",
    "\n",
    "columns = [\"customer_id\", \"name\", \"state\", \"membership\", \"start_date\", \"end_date\", \"is_active\"]\n",
    "\n",
    "customers_dim = spark.createDataFrame(data, columns)\n",
    "customers_dim.show()\n"
   ]
  },
  {
   "cell_type": "code",
   "execution_count": 0,
   "metadata": {
    "application/vnd.databricks.v1+cell": {
     "cellMetadata": {
      "byteLimit": 2048000,
      "rowLimit": 10000
     },
     "inputWidgets": {},
     "nuid": "79aa8b62-0c7f-4592-9482-84eb8c6794b6",
     "showTitle": false,
     "tableResultSettingsMap": {},
     "title": ""
    }
   },
   "outputs": [],
   "source": [
    "from delta.tables import DeltaTable\n",
    "from pyspark.sql.functions import col, current_date\n",
    "\n",
    "# Convert customers_dim to a Delta table\n",
    "customers_dim.write.format(\"delta\").mode(\"overwrite\").saveAsTable(\"customers_dim\")\n",
    "\n",
    "# Load the Delta table\n",
    "dim_table = DeltaTable.forName(spark, \"customers_dim\")\n",
    "\n",
    "# Define merge condition based on customer_id\n",
    "merge_condition = \"dim.customer_id = src.customer_id AND dim.is_active = 'Y'\"\n",
    "\n",
    "# Perform SCD Type 2 Merge\n",
    "dim_table.alias(\"dim\").merge(\n",
    "    customers_source.alias(\"src\"),\n",
    "    merge_condition\n",
    ").whenMatchedUpdate(\n",
    "    condition=\"dim.membership <> src.membership OR dim.state <> src.state\",  # Check for changes\n",
    "    set={\n",
    "        \"end_date\": current_date(),\n",
    "        \"is_active\": lit(\"N\")  # Expire the old record\n",
    "    }\n",
    ").whenNotMatchedInsert(\n",
    "    values={\n",
    "        \"customer_id\": \"src.customer_id\",\n",
    "        \"name\": \"src.name\",\n",
    "        \"state\": \"src.state\",\n",
    "        \"membership\": \"src.membership\",\n",
    "        \"start_date\": current_date(),\n",
    "        \"end_date\": lit(\"9999-12-31\"),\n",
    "        \"is_active\": lit(\"Y\")\n",
    "    }\n",
    ").execute()\n"
   ]
  },
  {
   "cell_type": "code",
   "execution_count": 0,
   "metadata": {
    "application/vnd.databricks.v1+cell": {
     "cellMetadata": {
      "byteLimit": 2048000,
      "rowLimit": 10000
     },
     "inputWidgets": {},
     "nuid": "d80ceefd-2123-45df-9817-a8b47dbe4bca",
     "showTitle": false,
     "tableResultSettingsMap": {},
     "title": ""
    }
   },
   "outputs": [
    {
     "output_type": "stream",
     "name": "stdout",
     "output_type": "stream",
     "text": [
      "+-----------+-------+-----+----------+----------+----------+---------+\n|customer_id|   name|state|membership|start_date|  end_date|is_active|\n+-----------+-------+-----+----------+----------+----------+---------+\n|          1|  Alice|   NY|    Silver|2024-01-01|2025-02-23|        N|\n|          2|    Bob|   CA|    Silver|2024-01-01|9999-12-31|        Y|\n|          3|Charlie|   TX|  Platinum|2024-01-01|2025-02-23|        N|\n|          4|  David|   FL|  Platinum|2025-02-23|9999-12-31|        Y|\n+-----------+-------+-----+----------+----------+----------+---------+\n\n"
     ]
    }
   ],
   "source": [
    "df = spark.sql(\"SELECT * FROM customers_dim ORDER BY customer_id, start_date\")\n",
    "df.show()"
   ]
  },
  {
   "cell_type": "markdown",
   "metadata": {
    "application/vnd.databricks.v1+cell": {
     "cellMetadata": {},
     "inputWidgets": {},
     "nuid": "8492d373-0b4f-46d0-833e-2c2e9dce15a1",
     "showTitle": false,
     "tableResultSettingsMap": {},
     "title": ""
    }
   },
   "source": [
    "#### 5. Write a SQL query to calculate the total revenue by product category from a sales table. The table Sales has columns: product_id, category_id, sale_amount, and there is a Categories table with columns category_id and category_name."
   ]
  },
  {
   "cell_type": "code",
   "execution_count": 0,
   "metadata": {
    "application/vnd.databricks.v1+cell": {
     "cellMetadata": {
      "byteLimit": 2048000,
      "implicitDf": true,
      "rowLimit": 10000
     },
     "inputWidgets": {},
     "nuid": "c47949de-5a6b-4d73-a442-7f641ee3bc6b",
     "showTitle": false,
     "tableResultSettingsMap": {},
     "title": ""
    }
   },
   "outputs": [
    {
     "output_type": "display_data",
     "data": {
      "text/html": [
       "<style scoped>\n",
       "  .table-result-container {\n",
       "    max-height: 300px;\n",
       "    overflow: auto;\n",
       "  }\n",
       "  table, th, td {\n",
       "    border: 1px solid black;\n",
       "    border-collapse: collapse;\n",
       "  }\n",
       "  th, td {\n",
       "    padding: 5px;\n",
       "  }\n",
       "  th {\n",
       "    text-align: left;\n",
       "  }\n",
       "</style><div class='table-result-container'><table class='table-result'><thead style='background-color: white'><tr></tr></thead><tbody></tbody></table></div>"
      ]
     },
     "metadata": {
      "application/vnd.databricks.v1+output": {
       "addedWidgets": {},
       "aggData": [],
       "aggError": "",
       "aggOverflow": false,
       "aggSchema": [],
       "aggSeriesLimitReached": false,
       "aggType": "",
       "arguments": {},
       "columnCustomDisplayInfos": {},
       "data": [],
       "datasetInfos": [],
       "dbfsResultPath": null,
       "isJsonSchema": true,
       "metadata": {
        "dataframeName": null
       },
       "overflow": false,
       "plotOptions": {
        "customPlotOptions": {},
        "displayType": "table",
        "pivotAggregation": null,
        "pivotColumns": null,
        "xColumns": null,
        "yColumns": null
       },
       "removedWidgets": [],
       "schema": [],
       "type": "table"
      }
     },
     "output_type": "display_data"
    }
   ],
   "source": [
    "%sql\n",
    "CREATE TABLE IF NOT EXISTS Sales (\n",
    "    product_id INT,\n",
    "    category_id INT,\n",
    "    sale_amount DECIMAL(10,2)\n",
    ");"
   ]
  },
  {
   "cell_type": "code",
   "execution_count": 0,
   "metadata": {
    "application/vnd.databricks.v1+cell": {
     "cellMetadata": {
      "byteLimit": 2048000,
      "implicitDf": true,
      "rowLimit": 10000
     },
     "inputWidgets": {},
     "nuid": "5e21ef60-c0e0-4100-b22e-d360014ff74a",
     "showTitle": false,
     "tableResultSettingsMap": {},
     "title": ""
    }
   },
   "outputs": [
    {
     "output_type": "display_data",
     "data": {
      "text/html": [
       "<style scoped>\n",
       "  .table-result-container {\n",
       "    max-height: 300px;\n",
       "    overflow: auto;\n",
       "  }\n",
       "  table, th, td {\n",
       "    border: 1px solid black;\n",
       "    border-collapse: collapse;\n",
       "  }\n",
       "  th, td {\n",
       "    padding: 5px;\n",
       "  }\n",
       "  th {\n",
       "    text-align: left;\n",
       "  }\n",
       "</style><div class='table-result-container'><table class='table-result'><thead style='background-color: white'><tr></tr></thead><tbody></tbody></table></div>"
      ]
     },
     "metadata": {
      "application/vnd.databricks.v1+output": {
       "addedWidgets": {},
       "aggData": [],
       "aggError": "",
       "aggOverflow": false,
       "aggSchema": [],
       "aggSeriesLimitReached": false,
       "aggType": "",
       "arguments": {},
       "columnCustomDisplayInfos": {},
       "data": [],
       "datasetInfos": [],
       "dbfsResultPath": null,
       "isJsonSchema": true,
       "metadata": {
        "dataframeName": null
       },
       "overflow": false,
       "plotOptions": {
        "customPlotOptions": {},
        "displayType": "table",
        "pivotAggregation": null,
        "pivotColumns": null,
        "xColumns": null,
        "yColumns": null
       },
       "removedWidgets": [],
       "schema": [],
       "type": "table"
      }
     },
     "output_type": "display_data"
    }
   ],
   "source": [
    "%sql\n",
    "CREATE TABLE IF NOT EXISTS Categories (\n",
    "    category_id INT PRIMARY KEY,\n",
    "    category_name VARCHAR(255)\n",
    ");\n"
   ]
  },
  {
   "cell_type": "code",
   "execution_count": 0,
   "metadata": {
    "application/vnd.databricks.v1+cell": {
     "cellMetadata": {
      "byteLimit": 2048000,
      "implicitDf": true,
      "rowLimit": 10000
     },
     "inputWidgets": {},
     "nuid": "7bfc2f79-124c-4606-b87d-1ee81c8730f6",
     "showTitle": false,
     "tableResultSettingsMap": {},
     "title": ""
    }
   },
   "outputs": [
    {
     "output_type": "display_data",
     "data": {
      "text/html": [
       "<style scoped>\n",
       "  .table-result-container {\n",
       "    max-height: 300px;\n",
       "    overflow: auto;\n",
       "  }\n",
       "  table, th, td {\n",
       "    border: 1px solid black;\n",
       "    border-collapse: collapse;\n",
       "  }\n",
       "  th, td {\n",
       "    padding: 5px;\n",
       "  }\n",
       "  th {\n",
       "    text-align: left;\n",
       "  }\n",
       "</style><div class='table-result-container'><table class='table-result'><thead style='background-color: white'><tr><th>num_affected_rows</th><th>num_inserted_rows</th></tr></thead><tbody><tr><td>5</td><td>5</td></tr></tbody></table></div>"
      ]
     },
     "metadata": {
      "application/vnd.databricks.v1+output": {
       "addedWidgets": {},
       "aggData": [],
       "aggError": "",
       "aggOverflow": false,
       "aggSchema": [],
       "aggSeriesLimitReached": false,
       "aggType": "",
       "arguments": {},
       "columnCustomDisplayInfos": {},
       "data": [
        [
         5,
         5
        ]
       ],
       "datasetInfos": [],
       "dbfsResultPath": null,
       "isJsonSchema": true,
       "metadata": {
        "createTempViewForImplicitDf": true,
        "dataframeName": "_sqldf",
        "executionCount": 7
       },
       "overflow": false,
       "plotOptions": {
        "customPlotOptions": {},
        "displayType": "table",
        "pivotAggregation": null,
        "pivotColumns": null,
        "xColumns": null,
        "yColumns": null
       },
       "removedWidgets": [],
       "schema": [
        {
         "metadata": "{}",
         "name": "num_affected_rows",
         "type": "\"long\""
        },
        {
         "metadata": "{}",
         "name": "num_inserted_rows",
         "type": "\"long\""
        }
       ],
       "type": "table"
      }
     },
     "output_type": "display_data"
    }
   ],
   "source": [
    "%sql\n",
    "INSERT INTO Categories (category_id, category_name) VALUES \n",
    "(1, 'Electronics'),\n",
    "(2, 'Clothing'),\n",
    "(3, 'Furniture');\n",
    "\n",
    "INSERT INTO Sales (product_id, category_id, sale_amount) VALUES \n",
    "(101, 1, 500.00),\n",
    "(102, 1, 300.00),\n",
    "(103, 2, 150.00),\n",
    "(104, 2, 100.00),\n",
    "(105, 3, 700.00);\n"
   ]
  },
  {
   "cell_type": "code",
   "execution_count": 0,
   "metadata": {
    "application/vnd.databricks.v1+cell": {
     "cellMetadata": {
      "byteLimit": 2048000,
      "implicitDf": true,
      "rowLimit": 10000
     },
     "inputWidgets": {},
     "nuid": "f49a9c21-2a07-4974-a5f9-d721b45760f7",
     "showTitle": false,
     "tableResultSettingsMap": {},
     "title": ""
    }
   },
   "outputs": [
    {
     "output_type": "display_data",
     "data": {
      "text/html": [
       "<style scoped>\n",
       "  .table-result-container {\n",
       "    max-height: 300px;\n",
       "    overflow: auto;\n",
       "  }\n",
       "  table, th, td {\n",
       "    border: 1px solid black;\n",
       "    border-collapse: collapse;\n",
       "  }\n",
       "  th, td {\n",
       "    padding: 5px;\n",
       "  }\n",
       "  th {\n",
       "    text-align: left;\n",
       "  }\n",
       "</style><div class='table-result-container'><table class='table-result'><thead style='background-color: white'><tr><th>product_id</th><th>category_id</th><th>sale_amount</th></tr></thead><tbody><tr><td>101</td><td>1</td><td>500.00</td></tr><tr><td>102</td><td>1</td><td>300.00</td></tr><tr><td>103</td><td>2</td><td>150.00</td></tr><tr><td>104</td><td>2</td><td>100.00</td></tr><tr><td>105</td><td>3</td><td>700.00</td></tr></tbody></table></div>"
      ]
     },
     "metadata": {
      "application/vnd.databricks.v1+output": {
       "addedWidgets": {},
       "aggData": [],
       "aggError": "",
       "aggOverflow": false,
       "aggSchema": [],
       "aggSeriesLimitReached": false,
       "aggType": "",
       "arguments": {},
       "columnCustomDisplayInfos": {},
       "data": [
        [
         101,
         1,
         "500.00"
        ],
        [
         102,
         1,
         "300.00"
        ],
        [
         103,
         2,
         "150.00"
        ],
        [
         104,
         2,
         "100.00"
        ],
        [
         105,
         3,
         "700.00"
        ]
       ],
       "datasetInfos": [],
       "dbfsResultPath": null,
       "isJsonSchema": true,
       "metadata": {
        "createTempViewForImplicitDf": true,
        "dataframeName": "_sqldf",
        "executionCount": 4
       },
       "overflow": false,
       "plotOptions": {
        "customPlotOptions": {},
        "displayType": "table",
        "pivotAggregation": null,
        "pivotColumns": null,
        "xColumns": null,
        "yColumns": null
       },
       "removedWidgets": [],
       "schema": [
        {
         "metadata": "{}",
         "name": "product_id",
         "type": "\"integer\""
        },
        {
         "metadata": "{}",
         "name": "category_id",
         "type": "\"integer\""
        },
        {
         "metadata": "{}",
         "name": "sale_amount",
         "type": "\"decimal(10,2)\""
        }
       ],
       "type": "table"
      }
     },
     "output_type": "display_data"
    }
   ],
   "source": [
    "%sql\n",
    "SELECT * FROM sales;"
   ]
  },
  {
   "cell_type": "code",
   "execution_count": 0,
   "metadata": {
    "application/vnd.databricks.v1+cell": {
     "cellMetadata": {
      "byteLimit": 2048000,
      "implicitDf": true,
      "rowLimit": 10000
     },
     "inputWidgets": {},
     "nuid": "3cbc0912-49f2-4b3b-beee-0dc3b11bf2c2",
     "showTitle": false,
     "tableResultSettingsMap": {},
     "title": ""
    }
   },
   "outputs": [
    {
     "output_type": "display_data",
     "data": {
      "text/html": [
       "<style scoped>\n",
       "  .table-result-container {\n",
       "    max-height: 300px;\n",
       "    overflow: auto;\n",
       "  }\n",
       "  table, th, td {\n",
       "    border: 1px solid black;\n",
       "    border-collapse: collapse;\n",
       "  }\n",
       "  th, td {\n",
       "    padding: 5px;\n",
       "  }\n",
       "  th {\n",
       "    text-align: left;\n",
       "  }\n",
       "</style><div class='table-result-container'><table class='table-result'><thead style='background-color: white'><tr><th>category_name</th><th>total_revenue</th></tr></thead><tbody><tr><td>Electronics</td><td>800.00</td></tr><tr><td>Furniture</td><td>700.00</td></tr><tr><td>Clothing</td><td>250.00</td></tr></tbody></table></div>"
      ]
     },
     "metadata": {
      "application/vnd.databricks.v1+output": {
       "addedWidgets": {},
       "aggData": [],
       "aggError": "",
       "aggOverflow": false,
       "aggSchema": [],
       "aggSeriesLimitReached": false,
       "aggType": "",
       "arguments": {},
       "columnCustomDisplayInfos": {},
       "data": [
        [
         "Electronics",
         "800.00"
        ],
        [
         "Furniture",
         "700.00"
        ],
        [
         "Clothing",
         "250.00"
        ]
       ],
       "datasetInfos": [],
       "dbfsResultPath": null,
       "isJsonSchema": true,
       "metadata": {
        "createTempViewForImplicitDf": true,
        "dataframeName": "_sqldf",
        "executionCount": 3
       },
       "overflow": false,
       "plotOptions": {
        "customPlotOptions": {},
        "displayType": "table",
        "pivotAggregation": null,
        "pivotColumns": null,
        "xColumns": null,
        "yColumns": null
       },
       "removedWidgets": [],
       "schema": [
        {
         "metadata": "{\"__CHAR_VARCHAR_TYPE_STRING\":\"varchar(255)\"}",
         "name": "category_name",
         "type": "\"string\""
        },
        {
         "metadata": "{}",
         "name": "total_revenue",
         "type": "\"decimal(20,2)\""
        }
       ],
       "type": "table"
      }
     },
     "output_type": "display_data"
    },
    {
     "output_type": "display_data",
     "data": {
      "text/plain": [
       "Databricks visualization. Run in Databricks to view."
      ]
     },
     "metadata": {
      "application/vnd.databricks.v1.subcommand+json": {
       "baseErrorDetails": null,
       "bindings": {},
       "collapsed": false,
       "command": "%sql WITH q AS (SELECT \n    c.category_name, \n    SUM(s.sale_amount) AS total_revenue\nFROM Sales s\nJOIN Categories c ON s.category_id = c.category_id\nGROUP BY c.category_name\nORDER BY total_revenue DESC) SELECT `category_name`,SUM(`total_revenue`) `column_30014ed429` FROM q GROUP BY `category_name`",
       "commandTitle": "Visualization 1",
       "commandType": "auto",
       "commandVersion": 0,
       "commentThread": [],
       "commentsVisible": false,
       "contentSha256Hex": null,
       "customPlotOptions": {
        "redashChart": [
         {
          "key": "type",
          "value": "CHART"
         },
         {
          "key": "options",
          "value": {
           "alignYAxesAtZero": true,
           "coefficient": 1,
           "columnConfigurationMap": {
            "x": {
             "column": "category_name",
             "id": "column_30014ed428"
            },
            "y": [
             {
              "column": "total_revenue",
              "id": "column_30014ed429",
              "transform": "SUM"
             }
            ]
           },
           "dateTimeFormat": "DD/MM/YYYY HH:mm",
           "direction": {
            "type": "counterclockwise"
           },
           "error_y": {
            "type": "data",
            "visible": true
           },
           "globalSeriesType": "pie",
           "legend": {
            "traceorder": "normal"
           },
           "missingValuesAsZero": true,
           "numberFormat": "0,0.[00000]",
           "percentFormat": "0[.]00%",
           "series": {
            "error_y": {
             "type": "data",
             "visible": true
            },
            "stacking": null
           },
           "seriesOptions": {
            "column_30014ed429": {
             "name": "total_revenue",
             "type": "pie",
             "yAxis": 0
            }
           },
           "showDataLabels": true,
           "sizemode": "diameter",
           "sortX": true,
           "sortY": true,
           "swappedAxes": false,
           "textFormat": "",
           "useAggregationsUi": true,
           "valuesOptions": {},
           "version": 2,
           "xAxis": {
            "labels": {
             "enabled": true
            },
            "type": "-"
           },
           "yAxis": [
            {
             "type": "-"
            },
            {
             "opposite": true,
             "type": "-"
            }
           ]
          }
         }
        ]
       },
       "datasetPreviewNameToCmdIdMap": {},
       "diffDeletes": [],
       "diffInserts": [],
       "displayType": "redashChart",
       "error": null,
       "errorDetails": null,
       "errorSummary": null,
       "errorTraceType": null,
       "finishTime": 0,
       "globalVars": {},
       "guid": "",
       "height": "auto",
       "hideCommandCode": false,
       "hideCommandResult": false,
       "iPythonMetadata": null,
       "inputWidgets": {},
       "isLockedInExamMode": false,
       "latestUser": "a user",
       "latestUserId": null,
       "listResultMetadata": null,
       "metadata": {},
       "nuid": "fa4d2c1d-8b59-46b8-ad32-de1fef34879f",
       "origId": 0,
       "parentHierarchy": [],
       "pivotAggregation": null,
       "pivotColumns": null,
       "position": 120.0,
       "resultDbfsErrorMessage": null,
       "resultDbfsStatus": "INLINED_IN_TREE",
       "results": null,
       "showCommandTitle": false,
       "startTime": 0,
       "state": "input",
       "streamStates": {},
       "subcommandOptions": {
        "queryPlan": {
         "groups": [
          {
           "column": "category_name",
           "type": "column"
          }
         ],
         "selects": [
          {
           "column": "category_name",
           "type": "column"
          },
          {
           "alias": "column_30014ed429",
           "args": [
            {
             "column": "total_revenue",
             "type": "column"
            }
           ],
           "function": "SUM",
           "type": "function"
          }
         ]
        }
       },
       "submitTime": 0,
       "subtype": "tableResultSubCmd.visualization",
       "tableResultIndex": 0,
       "tableResultSettingsMap": {},
       "useConsistentColors": false,
       "version": "CommandV1",
       "width": "auto",
       "workflows": [],
       "xColumns": null,
       "yColumns": null
      }
     },
     "output_type": "display_data"
    }
   ],
   "source": [
    "%sql\n",
    "SELECT \n",
    "    c.category_name, \n",
    "    SUM(s.sale_amount) AS total_revenue\n",
    "FROM Sales s\n",
    "JOIN Categories c ON s.category_id = c.category_id\n",
    "GROUP BY c.category_name\n",
    "ORDER BY total_revenue DESC;\n"
   ]
  },
  {
   "cell_type": "markdown",
   "metadata": {
    "application/vnd.databricks.v1+cell": {
     "cellMetadata": {},
     "inputWidgets": {},
     "nuid": "5b0b4b7a-05ee-4d4f-968e-e2c5da8afc33",
     "showTitle": false,
     "tableResultSettingsMap": {},
     "title": ""
    }
   },
   "source": [
    "#### 8. If I want to user input from databricks how can I take that ?"
   ]
  },
  {
   "cell_type": "code",
   "execution_count": 0,
   "metadata": {
    "application/vnd.databricks.v1+cell": {
     "cellMetadata": {
      "byteLimit": 2048000,
      "rowLimit": 10000
     },
     "inputWidgets": {},
     "nuid": "5bb2b41e-788f-455e-a2d7-74071e63b1e9",
     "showTitle": false,
     "tableResultSettingsMap": {},
     "title": ""
    }
   },
   "outputs": [
    {
     "output_type": "stream",
     "name": "stdout",
     "output_type": "stream",
     "text": [
      "Hello, Jawwad!\n"
     ]
    }
   ],
   "source": [
    "dbutils.widgets.text(\"user_name\", \"Enter your name\")  # Default value: \"Enter your name\"\n",
    "user_name = dbutils.widgets.get(\"user_name\")\n",
    "\n",
    "print(f\"Hello, {user_name}!\")  # Display user input"
   ]
  },
  {
   "cell_type": "code",
   "execution_count": 0,
   "metadata": {
    "application/vnd.databricks.v1+cell": {
     "cellMetadata": {
      "byteLimit": 2048000,
      "rowLimit": 10000
     },
     "inputWidgets": {},
     "nuid": "7d5a7889-ecaf-4cfe-9093-38a96923e449",
     "showTitle": false,
     "tableResultSettingsMap": {},
     "title": ""
    }
   },
   "outputs": [
    {
     "output_type": "stream",
     "name": "stdout",
     "output_type": "stream",
     "text": [
      "Selected Country: India\n"
     ]
    }
   ],
   "source": [
    "dbutils.widgets.dropdown(\"country\", \"USA\", [\"USA\", \"India\", \"UK\", \"Canada\"])\n",
    "selected_country = dbutils.widgets.get(\"country\")\n",
    "\n",
    "print(f\"Selected Country: {selected_country}\")\n"
   ]
  },
  {
   "cell_type": "markdown",
   "metadata": {
    "application/vnd.databricks.v1+cell": {
     "cellMetadata": {},
     "inputWidgets": {},
     "nuid": "537eaa63-ac0e-489c-8ecf-95343af9d752",
     "showTitle": false,
     "tableResultSettingsMap": {},
     "title": ""
    }
   },
   "source": [
    "#### 10. How do you make sure you data is backuped and what are the procees you have used ?"
   ]
  },
  {
   "cell_type": "code",
   "execution_count": 0,
   "metadata": {
    "application/vnd.databricks.v1+cell": {
     "cellMetadata": {
      "byteLimit": 2048000,
      "implicitDf": true,
      "rowLimit": 10000
     },
     "inputWidgets": {},
     "nuid": "823862c3-f309-46e6-b9fd-76215ca82fcc",
     "showTitle": false,
     "tableResultSettingsMap": {},
     "title": ""
    }
   },
   "outputs": [
    {
     "output_type": "display_data",
     "data": {
      "text/html": [
       "<style scoped>\n",
       "  .table-result-container {\n",
       "    max-height: 300px;\n",
       "    overflow: auto;\n",
       "  }\n",
       "  table, th, td {\n",
       "    border: 1px solid black;\n",
       "    border-collapse: collapse;\n",
       "  }\n",
       "  th, td {\n",
       "    padding: 5px;\n",
       "  }\n",
       "  th {\n",
       "    text-align: left;\n",
       "  }\n",
       "</style><div class='table-result-container'><table class='table-result'><thead style='background-color: white'><tr><th>version</th><th>timestamp</th><th>userId</th><th>userName</th><th>operation</th><th>operationParameters</th><th>job</th><th>notebook</th><th>clusterId</th><th>readVersion</th><th>isolationLevel</th><th>isBlindAppend</th><th>operationMetrics</th><th>userMetadata</th><th>engineInfo</th></tr></thead><tbody><tr><td>1</td><td>2025-02-23T09:46:20Z</td><td>6469192871093063</td><td>abduljawwad246@gmail.com</td><td>WRITE</td><td>Map(mode -> Append, statsOnLoad -> false, partitionBy -> [])</td><td>null</td><td>List(469147981753331)</td><td>0222-141020-q6jp4fy0</td><td>0</td><td>WriteSerializable</td><td>true</td><td>Map(numFiles -> 1, numOutputRows -> 5, numOutputBytes -> 1122)</td><td>null</td><td>Databricks-Runtime/15.4.x-aarch64-photon-scala2.12</td></tr><tr><td>0</td><td>2025-02-23T09:44:25Z</td><td>6469192871093063</td><td>abduljawwad246@gmail.com</td><td>CREATE TABLE</td><td>Map(partitionBy -> [], clusterBy -> [], description -> null, isManaged -> true, properties -> {\"delta.enableDeletionVectors\":\"true\"}, statsOnLoad -> false)</td><td>null</td><td>List(469147981753331)</td><td>0222-141020-q6jp4fy0</td><td>null</td><td>WriteSerializable</td><td>true</td><td>Map()</td><td>null</td><td>Databricks-Runtime/15.4.x-aarch64-photon-scala2.12</td></tr></tbody></table></div>"
      ]
     },
     "metadata": {
      "application/vnd.databricks.v1+output": {
       "addedWidgets": {},
       "aggData": [],
       "aggError": "",
       "aggOverflow": false,
       "aggSchema": [],
       "aggSeriesLimitReached": false,
       "aggType": "",
       "arguments": {},
       "columnCustomDisplayInfos": {},
       "data": [
        [
         1,
         "2025-02-23T09:46:20Z",
         "6469192871093063",
         "abduljawwad246@gmail.com",
         "WRITE",
         {
          "mode": "Append",
          "partitionBy": "[]",
          "statsOnLoad": "false"
         },
         null,
         [
          "469147981753331"
         ],
         "0222-141020-q6jp4fy0",
         0,
         "WriteSerializable",
         true,
         {
          "numFiles": "1",
          "numOutputBytes": "1122",
          "numOutputRows": "5"
         },
         null,
         "Databricks-Runtime/15.4.x-aarch64-photon-scala2.12"
        ],
        [
         0,
         "2025-02-23T09:44:25Z",
         "6469192871093063",
         "abduljawwad246@gmail.com",
         "CREATE TABLE",
         {
          "clusterBy": "[]",
          "description": null,
          "isManaged": "true",
          "partitionBy": "[]",
          "properties": "{\"delta.enableDeletionVectors\":\"true\"}",
          "statsOnLoad": "false"
         },
         null,
         [
          "469147981753331"
         ],
         "0222-141020-q6jp4fy0",
         null,
         "WriteSerializable",
         true,
         {},
         null,
         "Databricks-Runtime/15.4.x-aarch64-photon-scala2.12"
        ]
       ],
       "datasetInfos": [],
       "dbfsResultPath": null,
       "isJsonSchema": true,
       "metadata": {
        "createTempViewForImplicitDf": true,
        "dataframeName": "_sqldf",
        "executionCount": 37
       },
       "overflow": false,
       "plotOptions": {
        "customPlotOptions": {},
        "displayType": "table",
        "pivotAggregation": null,
        "pivotColumns": null,
        "xColumns": null,
        "yColumns": null
       },
       "removedWidgets": [],
       "schema": [
        {
         "metadata": "{}",
         "name": "version",
         "type": "\"long\""
        },
        {
         "metadata": "{}",
         "name": "timestamp",
         "type": "\"timestamp\""
        },
        {
         "metadata": "{}",
         "name": "userId",
         "type": "\"string\""
        },
        {
         "metadata": "{}",
         "name": "userName",
         "type": "\"string\""
        },
        {
         "metadata": "{}",
         "name": "operation",
         "type": "\"string\""
        },
        {
         "metadata": "{}",
         "name": "operationParameters",
         "type": "{\"type\":\"map\",\"keyType\":\"string\",\"valueType\":\"string\",\"valueContainsNull\":true}"
        },
        {
         "metadata": "{}",
         "name": "job",
         "type": "{\"type\":\"struct\",\"fields\":[{\"name\":\"jobId\",\"type\":\"string\",\"nullable\":true,\"metadata\":{}},{\"name\":\"jobName\",\"type\":\"string\",\"nullable\":true,\"metadata\":{}},{\"name\":\"jobRunId\",\"type\":\"string\",\"nullable\":true,\"metadata\":{}},{\"name\":\"runId\",\"type\":\"string\",\"nullable\":true,\"metadata\":{}},{\"name\":\"jobOwnerId\",\"type\":\"string\",\"nullable\":true,\"metadata\":{}},{\"name\":\"triggerType\",\"type\":\"string\",\"nullable\":true,\"metadata\":{}}]}"
        },
        {
         "metadata": "{}",
         "name": "notebook",
         "type": "{\"type\":\"struct\",\"fields\":[{\"name\":\"notebookId\",\"type\":\"string\",\"nullable\":true,\"metadata\":{}}]}"
        },
        {
         "metadata": "{}",
         "name": "clusterId",
         "type": "\"string\""
        },
        {
         "metadata": "{}",
         "name": "readVersion",
         "type": "\"long\""
        },
        {
         "metadata": "{}",
         "name": "isolationLevel",
         "type": "\"string\""
        },
        {
         "metadata": "{}",
         "name": "isBlindAppend",
         "type": "\"boolean\""
        },
        {
         "metadata": "{}",
         "name": "operationMetrics",
         "type": "{\"type\":\"map\",\"keyType\":\"string\",\"valueType\":\"string\",\"valueContainsNull\":true}"
        },
        {
         "metadata": "{}",
         "name": "userMetadata",
         "type": "\"string\""
        },
        {
         "metadata": "{}",
         "name": "engineInfo",
         "type": "\"string\""
        }
       ],
       "type": "table"
      }
     },
     "output_type": "display_data"
    }
   ],
   "source": [
    "%sql\n",
    "describe history sales;"
   ]
  },
  {
   "cell_type": "code",
   "execution_count": 0,
   "metadata": {
    "application/vnd.databricks.v1+cell": {
     "cellMetadata": {
      "byteLimit": 2048000,
      "implicitDf": true,
      "rowLimit": 10000
     },
     "inputWidgets": {},
     "nuid": "a1b5ecc0-0cb4-4ded-a219-de3f9c51ef3a",
     "showTitle": false,
     "tableResultSettingsMap": {},
     "title": ""
    }
   },
   "outputs": [
    {
     "output_type": "display_data",
     "data": {
      "text/html": [
       "<style scoped>\n",
       "  .table-result-container {\n",
       "    max-height: 300px;\n",
       "    overflow: auto;\n",
       "  }\n",
       "  table, th, td {\n",
       "    border: 1px solid black;\n",
       "    border-collapse: collapse;\n",
       "  }\n",
       "  th, td {\n",
       "    padding: 5px;\n",
       "  }\n",
       "  th {\n",
       "    text-align: left;\n",
       "  }\n",
       "</style><div class='table-result-container'><table class='table-result'><thead style='background-color: white'><tr><th>product_id</th><th>category_id</th><th>sale_amount</th></tr></thead><tbody></tbody></table></div>"
      ]
     },
     "metadata": {
      "application/vnd.databricks.v1+output": {
       "addedWidgets": {},
       "aggData": [],
       "aggError": "",
       "aggOverflow": false,
       "aggSchema": [],
       "aggSeriesLimitReached": false,
       "aggType": "",
       "arguments": {},
       "columnCustomDisplayInfos": {},
       "data": [],
       "datasetInfos": [],
       "dbfsResultPath": null,
       "isJsonSchema": true,
       "metadata": {
        "createTempViewForImplicitDf": true,
        "dataframeName": "_sqldf",
        "executionCount": 39
       },
       "overflow": false,
       "plotOptions": {
        "customPlotOptions": {},
        "displayType": "table",
        "pivotAggregation": null,
        "pivotColumns": null,
        "xColumns": null,
        "yColumns": null
       },
       "removedWidgets": [],
       "schema": [
        {
         "metadata": "{}",
         "name": "product_id",
         "type": "\"integer\""
        },
        {
         "metadata": "{}",
         "name": "category_id",
         "type": "\"integer\""
        },
        {
         "metadata": "{}",
         "name": "sale_amount",
         "type": "\"decimal(10,2)\""
        }
       ],
       "type": "table"
      }
     },
     "output_type": "display_data"
    }
   ],
   "source": [
    "%sql\n",
    "SELECT * FROM sales VERSION AS OF 0;"
   ]
  },
  {
   "cell_type": "code",
   "execution_count": 0,
   "metadata": {
    "application/vnd.databricks.v1+cell": {
     "cellMetadata": {
      "byteLimit": 2048000,
      "rowLimit": 10000
     },
     "inputWidgets": {},
     "nuid": "0c8458c8-a600-4683-b9e5-decce4c14709",
     "showTitle": false,
     "tableResultSettingsMap": {},
     "title": ""
    }
   },
   "outputs": [],
   "source": [
    "df = spark.table(\"sales\")  \n",
    "df.write.format(\"csv\").option(\"header\", \"true\").mode(\"overwrite\").save(\"s3://abduldbtlearn/csv/sales/\")"
   ]
  },
  {
   "cell_type": "markdown",
   "metadata": {
    "application/vnd.databricks.v1+cell": {
     "cellMetadata": {},
     "inputWidgets": {},
     "nuid": "56d3acc6-1dd1-479b-836d-45b5144d0a88",
     "showTitle": false,
     "tableResultSettingsMap": {},
     "title": ""
    }
   },
   "source": [
    "#### 15. PySpark Program to Calculate Daily Revenue Per Product & Store in Delta Table"
   ]
  },
  {
   "cell_type": "code",
   "execution_count": 0,
   "metadata": {
    "application/vnd.databricks.v1+cell": {
     "cellMetadata": {
      "byteLimit": 2048000,
      "implicitDf": true,
      "rowLimit": 10000
     },
     "inputWidgets": {},
     "nuid": "a5684347-ef9b-45cc-b987-139866338e01",
     "showTitle": false,
     "tableResultSettingsMap": {},
     "title": ""
    }
   },
   "outputs": [
    {
     "output_type": "display_data",
     "data": {
      "text/html": [
       "<style scoped>\n",
       "  .table-result-container {\n",
       "    max-height: 300px;\n",
       "    overflow: auto;\n",
       "  }\n",
       "  table, th, td {\n",
       "    border: 1px solid black;\n",
       "    border-collapse: collapse;\n",
       "  }\n",
       "  th, td {\n",
       "    padding: 5px;\n",
       "  }\n",
       "  th {\n",
       "    text-align: left;\n",
       "  }\n",
       "</style><div class='table-result-container'><table class='table-result'><thead style='background-color: white'><tr></tr></thead><tbody></tbody></table></div>"
      ]
     },
     "metadata": {
      "application/vnd.databricks.v1+output": {
       "addedWidgets": {},
       "aggData": [],
       "aggError": "",
       "aggOverflow": false,
       "aggSchema": [],
       "aggSeriesLimitReached": false,
       "aggType": "",
       "arguments": {},
       "columnCustomDisplayInfos": {},
       "data": [],
       "datasetInfos": [],
       "dbfsResultPath": null,
       "isJsonSchema": true,
       "metadata": {
        "dataframeName": null
       },
       "overflow": false,
       "plotOptions": {
        "customPlotOptions": {},
        "displayType": "table",
        "pivotAggregation": null,
        "pivotColumns": null,
        "xColumns": null,
        "yColumns": null
       },
       "removedWidgets": [],
       "schema": [],
       "type": "table"
      }
     },
     "output_type": "display_data"
    }
   ],
   "source": [
    "%sql\n",
    "CREATE TABLE sales_transactions (\n",
    "    transaction_date DATE COMMENT 'Date of the transaction',\n",
    "    transaction_id STRING COMMENT 'Unique transaction identifier',\n",
    "    product_id STRING COMMENT 'Product identifier',\n",
    "    quantity INT COMMENT 'Quantity of products sold',\n",
    "    price DECIMAL(10,2) COMMENT 'Price of the product'\n",
    ")\n",
    "USING DELTA\n",
    "COMMENT 'Table storing sales transactions'\n",
    "PARTITIONED BY (transaction_date);"
   ]
  },
  {
   "cell_type": "code",
   "execution_count": 0,
   "metadata": {
    "application/vnd.databricks.v1+cell": {
     "cellMetadata": {
      "byteLimit": 2048000,
      "implicitDf": true,
      "rowLimit": 10000
     },
     "inputWidgets": {},
     "nuid": "fdf44d21-4102-4750-8a9d-2f7016e345c0",
     "showTitle": false,
     "tableResultSettingsMap": {},
     "title": ""
    }
   },
   "outputs": [
    {
     "output_type": "display_data",
     "data": {
      "text/html": [
       "<style scoped>\n",
       "  .table-result-container {\n",
       "    max-height: 300px;\n",
       "    overflow: auto;\n",
       "  }\n",
       "  table, th, td {\n",
       "    border: 1px solid black;\n",
       "    border-collapse: collapse;\n",
       "  }\n",
       "  th, td {\n",
       "    padding: 5px;\n",
       "  }\n",
       "  th {\n",
       "    text-align: left;\n",
       "  }\n",
       "</style><div class='table-result-container'><table class='table-result'><thead style='background-color: white'><tr><th>num_affected_rows</th><th>num_inserted_rows</th></tr></thead><tbody><tr><td>15</td><td>15</td></tr></tbody></table></div>"
      ]
     },
     "metadata": {
      "application/vnd.databricks.v1+output": {
       "addedWidgets": {},
       "aggData": [],
       "aggError": "",
       "aggOverflow": false,
       "aggSchema": [],
       "aggSeriesLimitReached": false,
       "aggType": "",
       "arguments": {},
       "columnCustomDisplayInfos": {},
       "data": [
        [
         15,
         15
        ]
       ],
       "datasetInfos": [],
       "dbfsResultPath": null,
       "isJsonSchema": true,
       "metadata": {
        "createTempViewForImplicitDf": true,
        "dataframeName": "_sqldf",
        "executionCount": 5
       },
       "overflow": false,
       "plotOptions": {
        "customPlotOptions": {},
        "displayType": "table",
        "pivotAggregation": null,
        "pivotColumns": null,
        "xColumns": null,
        "yColumns": null
       },
       "removedWidgets": [],
       "schema": [
        {
         "metadata": "{}",
         "name": "num_affected_rows",
         "type": "\"long\""
        },
        {
         "metadata": "{}",
         "name": "num_inserted_rows",
         "type": "\"long\""
        }
       ],
       "type": "table"
      }
     },
     "output_type": "display_data"
    }
   ],
   "source": [
    "%sql\n",
    "INSERT INTO sales_transactions VALUES\n",
    "    ('2024-02-01', 'TXN001', 'P001', 2, 19.99),\n",
    "    ('2024-02-01', 'TXN002', 'P002', 1, 29.99),\n",
    "    ('2024-02-01', 'TXN003', 'P003', 3, 9.99),\n",
    "    ('2024-02-02', 'TXN004', 'P004', 5, 15.49),\n",
    "    ('2024-02-02', 'TXN005', 'P002', 2, 29.99),\n",
    "    ('2024-02-03', 'TXN006', 'P001', 1, 19.99),\n",
    "    ('2024-02-03', 'TXN007', 'P005', 4, 12.99),\n",
    "    ('2024-02-04', 'TXN008', 'P006', 2, 24.99),\n",
    "    ('2024-02-04', 'TXN009', 'P007', 3, 17.49),\n",
    "    ('2024-02-05', 'TXN010', 'P003', 5, 9.99),\n",
    "    ('2024-02-06', 'TXN011', 'P008', 1, 34.99),\n",
    "    ('2024-02-06', 'TXN012', 'P001', 3, 19.99),\n",
    "    ('2024-02-07', 'TXN013', 'P002', 4, 29.99),\n",
    "    ('2024-02-08', 'TXN014', 'P009', 2, 11.99),\n",
    "    ('2024-02-08', 'TXN015', 'P005', 6, 12.99);\n"
   ]
  },
  {
   "cell_type": "code",
   "execution_count": 0,
   "metadata": {
    "application/vnd.databricks.v1+cell": {
     "cellMetadata": {
      "byteLimit": 2048000,
      "implicitDf": true,
      "rowLimit": 10000
     },
     "inputWidgets": {},
     "nuid": "1c1bc019-7b9c-4f23-9898-689aeecc1145",
     "showTitle": false,
     "tableResultSettingsMap": {},
     "title": ""
    }
   },
   "outputs": [
    {
     "output_type": "display_data",
     "data": {
      "text/html": [
       "<style scoped>\n",
       "  .table-result-container {\n",
       "    max-height: 300px;\n",
       "    overflow: auto;\n",
       "  }\n",
       "  table, th, td {\n",
       "    border: 1px solid black;\n",
       "    border-collapse: collapse;\n",
       "  }\n",
       "  th, td {\n",
       "    padding: 5px;\n",
       "  }\n",
       "  th {\n",
       "    text-align: left;\n",
       "  }\n",
       "</style><div class='table-result-container'><table class='table-result'><thead style='background-color: white'><tr><th>transaction_date</th><th>transaction_id</th><th>product_id</th><th>quantity</th><th>price</th></tr></thead><tbody><tr><td>2024-02-01</td><td>TXN001</td><td>P001</td><td>2</td><td>19.99</td></tr><tr><td>2024-02-01</td><td>TXN002</td><td>P002</td><td>1</td><td>29.99</td></tr><tr><td>2024-02-01</td><td>TXN003</td><td>P003</td><td>3</td><td>9.99</td></tr><tr><td>2024-02-06</td><td>TXN011</td><td>P008</td><td>1</td><td>34.99</td></tr><tr><td>2024-02-06</td><td>TXN012</td><td>P001</td><td>3</td><td>19.99</td></tr><tr><td>2024-02-04</td><td>TXN008</td><td>P006</td><td>2</td><td>24.99</td></tr><tr><td>2024-02-04</td><td>TXN009</td><td>P007</td><td>3</td><td>17.49</td></tr><tr><td>2024-02-03</td><td>TXN006</td><td>P001</td><td>1</td><td>19.99</td></tr><tr><td>2024-02-03</td><td>TXN007</td><td>P005</td><td>4</td><td>12.99</td></tr><tr><td>2024-02-07</td><td>TXN013</td><td>P002</td><td>4</td><td>29.99</td></tr></tbody></table></div>"
      ]
     },
     "metadata": {
      "application/vnd.databricks.v1+output": {
       "addedWidgets": {},
       "aggData": [],
       "aggError": "",
       "aggOverflow": false,
       "aggSchema": [],
       "aggSeriesLimitReached": false,
       "aggType": "",
       "arguments": {},
       "columnCustomDisplayInfos": {},
       "data": [
        [
         "2024-02-01",
         "TXN001",
         "P001",
         2,
         "19.99"
        ],
        [
         "2024-02-01",
         "TXN002",
         "P002",
         1,
         "29.99"
        ],
        [
         "2024-02-01",
         "TXN003",
         "P003",
         3,
         "9.99"
        ],
        [
         "2024-02-06",
         "TXN011",
         "P008",
         1,
         "34.99"
        ],
        [
         "2024-02-06",
         "TXN012",
         "P001",
         3,
         "19.99"
        ],
        [
         "2024-02-04",
         "TXN008",
         "P006",
         2,
         "24.99"
        ],
        [
         "2024-02-04",
         "TXN009",
         "P007",
         3,
         "17.49"
        ],
        [
         "2024-02-03",
         "TXN006",
         "P001",
         1,
         "19.99"
        ],
        [
         "2024-02-03",
         "TXN007",
         "P005",
         4,
         "12.99"
        ],
        [
         "2024-02-07",
         "TXN013",
         "P002",
         4,
         "29.99"
        ]
       ],
       "datasetInfos": [],
       "dbfsResultPath": null,
       "isJsonSchema": true,
       "metadata": {
        "createTempViewForImplicitDf": true,
        "dataframeName": "_sqldf",
        "executionCount": 10
       },
       "overflow": false,
       "plotOptions": {
        "customPlotOptions": {},
        "displayType": "table",
        "pivotAggregation": null,
        "pivotColumns": null,
        "xColumns": null,
        "yColumns": null
       },
       "removedWidgets": [],
       "schema": [
        {
         "metadata": "{\"comment\":\"Date of the transaction\"}",
         "name": "transaction_date",
         "type": "\"date\""
        },
        {
         "metadata": "{\"comment\":\"Unique transaction identifier\"}",
         "name": "transaction_id",
         "type": "\"string\""
        },
        {
         "metadata": "{\"comment\":\"Product identifier\"}",
         "name": "product_id",
         "type": "\"string\""
        },
        {
         "metadata": "{\"comment\":\"Quantity of products sold\"}",
         "name": "quantity",
         "type": "\"integer\""
        },
        {
         "metadata": "{\"comment\":\"Price of the product\"}",
         "name": "price",
         "type": "\"decimal(10,2)\""
        }
       ],
       "type": "table"
      }
     },
     "output_type": "display_data"
    }
   ],
   "source": [
    "%sql\n",
    "SELECT * FROM sales_transactions LIMIT 10;"
   ]
  },
  {
   "cell_type": "code",
   "execution_count": 0,
   "metadata": {
    "application/vnd.databricks.v1+cell": {
     "cellMetadata": {
      "byteLimit": 2048000,
      "rowLimit": 10000
     },
     "inputWidgets": {},
     "nuid": "56b3846e-db2c-4f1d-9055-770889dded0f",
     "showTitle": false,
     "tableResultSettingsMap": {},
     "title": ""
    }
   },
   "outputs": [
    {
     "output_type": "stream",
     "name": "stdout",
     "output_type": "stream",
     "text": [
      "+----------------+----------+-------------+\n|transaction_date|product_id|total_revenue|\n+----------------+----------+-------------+\n|      2024-02-01|      P002|        29.99|\n|      2024-02-01|      P003|        29.97|\n|      2024-02-08|      P009|        23.98|\n|      2024-02-01|      P001|        39.98|\n|      2024-02-08|      P005|        77.94|\n|      2024-02-06|      P001|        59.97|\n|      2024-02-02|      P002|        59.98|\n|      2024-02-02|      P004|        77.45|\n|      2024-02-06|      P008|        34.99|\n|      2024-02-04|      P006|        49.98|\n|      2024-02-03|      P005|        51.96|\n|      2024-02-04|      P007|        52.47|\n|      2024-02-03|      P001|        19.99|\n|      2024-02-07|      P002|       119.96|\n|      2024-02-05|      P003|        49.95|\n+----------------+----------+-------------+\n\n"
     ]
    }
   ],
   "source": [
    "# Compute total revenue (quantity * price) at day level per product\n",
    "revenue_df = sales_df.groupBy(\"transaction_date\", \"product_id\") \\\n",
    "    .agg(sum(col(\"quantity\") * col(\"price\")).alias(\"total_revenue\"))\n",
    "\n",
    "# Show results\n",
    "revenue_df.show()"
   ]
  },
  {
   "cell_type": "code",
   "execution_count": 0,
   "metadata": {
    "application/vnd.databricks.v1+cell": {
     "cellMetadata": {
      "byteLimit": 2048000,
      "implicitDf": true,
      "rowLimit": 10000
     },
     "inputWidgets": {},
     "nuid": "3bb44e80-f969-4e54-bfa1-f3ea8e2e6db3",
     "showTitle": false,
     "tableResultSettingsMap": {},
     "title": ""
    }
   },
   "outputs": [
    {
     "output_type": "display_data",
     "data": {
      "text/html": [
       "<style scoped>\n",
       "  .table-result-container {\n",
       "    max-height: 300px;\n",
       "    overflow: auto;\n",
       "  }\n",
       "  table, th, td {\n",
       "    border: 1px solid black;\n",
       "    border-collapse: collapse;\n",
       "  }\n",
       "  th, td {\n",
       "    padding: 5px;\n",
       "  }\n",
       "  th {\n",
       "    text-align: left;\n",
       "  }\n",
       "</style><div class='table-result-container'><table class='table-result'><thead style='background-color: white'><tr><th>TRANSACTION_DATE</th><th>PRODUCT_ID</th><th>TOTAL_REVENUE</th></tr></thead><tbody><tr><td>2024-02-03</td><td>P001</td><td>19.99</td></tr><tr><td>2024-02-06</td><td>P001</td><td>59.97</td></tr><tr><td>2024-02-01</td><td>P001</td><td>39.98</td></tr><tr><td>2024-02-07</td><td>P002</td><td>119.96</td></tr><tr><td>2024-02-02</td><td>P002</td><td>59.98</td></tr><tr><td>2024-02-01</td><td>P002</td><td>29.99</td></tr><tr><td>2024-02-01</td><td>P003</td><td>29.97</td></tr><tr><td>2024-02-05</td><td>P003</td><td>49.95</td></tr><tr><td>2024-02-02</td><td>P004</td><td>77.45</td></tr><tr><td>2024-02-08</td><td>P005</td><td>77.94</td></tr><tr><td>2024-02-03</td><td>P005</td><td>51.96</td></tr><tr><td>2024-02-04</td><td>P006</td><td>49.98</td></tr><tr><td>2024-02-04</td><td>P007</td><td>52.47</td></tr><tr><td>2024-02-06</td><td>P008</td><td>34.99</td></tr><tr><td>2024-02-08</td><td>P009</td><td>23.98</td></tr></tbody></table></div>"
      ]
     },
     "metadata": {
      "application/vnd.databricks.v1+output": {
       "addedWidgets": {},
       "aggData": [],
       "aggError": "",
       "aggOverflow": false,
       "aggSchema": [],
       "aggSeriesLimitReached": false,
       "aggType": "",
       "arguments": {},
       "columnCustomDisplayInfos": {},
       "data": [
        [
         "2024-02-03",
         "P001",
         "19.99"
        ],
        [
         "2024-02-06",
         "P001",
         "59.97"
        ],
        [
         "2024-02-01",
         "P001",
         "39.98"
        ],
        [
         "2024-02-07",
         "P002",
         "119.96"
        ],
        [
         "2024-02-02",
         "P002",
         "59.98"
        ],
        [
         "2024-02-01",
         "P002",
         "29.99"
        ],
        [
         "2024-02-01",
         "P003",
         "29.97"
        ],
        [
         "2024-02-05",
         "P003",
         "49.95"
        ],
        [
         "2024-02-02",
         "P004",
         "77.45"
        ],
        [
         "2024-02-08",
         "P005",
         "77.94"
        ],
        [
         "2024-02-03",
         "P005",
         "51.96"
        ],
        [
         "2024-02-04",
         "P006",
         "49.98"
        ],
        [
         "2024-02-04",
         "P007",
         "52.47"
        ],
        [
         "2024-02-06",
         "P008",
         "34.99"
        ],
        [
         "2024-02-08",
         "P009",
         "23.98"
        ]
       ],
       "datasetInfos": [],
       "dbfsResultPath": null,
       "isJsonSchema": true,
       "metadata": {
        "createTempViewForImplicitDf": true,
        "dataframeName": "_sqldf",
        "executionCount": 23
       },
       "overflow": false,
       "plotOptions": {
        "customPlotOptions": {},
        "displayType": "table",
        "pivotAggregation": null,
        "pivotColumns": null,
        "xColumns": null,
        "yColumns": null
       },
       "removedWidgets": [],
       "schema": [
        {
         "metadata": "{\"comment\":\"Date of the transaction\"}",
         "name": "TRANSACTION_DATE",
         "type": "\"date\""
        },
        {
         "metadata": "{\"comment\":\"Product identifier\"}",
         "name": "PRODUCT_ID",
         "type": "\"string\""
        },
        {
         "metadata": "{}",
         "name": "TOTAL_REVENUE",
         "type": "\"decimal(31,2)\""
        }
       ],
       "type": "table"
      }
     },
     "output_type": "display_data"
    },
    {
     "output_type": "display_data",
     "data": {
      "text/plain": [
       "Databricks visualization. Run in Databricks to view."
      ]
     },
     "metadata": {
      "application/vnd.databricks.v1.subcommand+json": {
       "baseErrorDetails": null,
       "bindings": {},
       "collapsed": false,
       "command": "%sql WITH q AS (SELECT TRANSACTION_DATE, PRODUCT_ID, SUM(PRICE * QUANTITY) AS TOTAL_REVENUE \nFROM sales_transactions \nGROUP BY 1, 2\nORDER BY 2) SELECT `TRANSACTION_DATE`,`PRODUCT_ID`,SUM(`TOTAL_REVENUE`) `column_3cd0da0080` FROM q GROUP BY `PRODUCT_ID`,`TRANSACTION_DATE`",
       "commandTitle": "Visualization 1",
       "commandType": "auto",
       "commandVersion": 0,
       "commentThread": [],
       "commentsVisible": false,
       "contentSha256Hex": null,
       "customPlotOptions": {
        "redashChart": [
         {
          "key": "type",
          "value": "CHART"
         },
         {
          "key": "options",
          "value": {
           "alignYAxesAtZero": true,
           "coefficient": 1,
           "columnConfigurationMap": {
            "series": {
             "column": "PRODUCT_ID",
             "id": "column_3cd0da0088"
            },
            "x": {
             "column": "TRANSACTION_DATE",
             "id": "column_3cd0da0086"
            },
            "y": [
             {
              "column": "TOTAL_REVENUE",
              "id": "column_3cd0da0080",
              "transform": "SUM"
             }
            ]
           },
           "dateTimeFormat": "DD/MM/YYYY HH:mm",
           "direction": {
            "type": "counterclockwise"
           },
           "error_y": {
            "type": "data",
            "visible": true
           },
           "globalSeriesType": "line",
           "isAggregationOn": true,
           "legend": {
            "traceorder": "normal"
           },
           "missingValuesAsZero": true,
           "numberFormat": "0,0.[00000]",
           "percentFormat": "0[.]00%",
           "series": {
            "error_y": {
             "type": "data",
             "visible": true
            },
            "stacking": null
           },
           "seriesOptions": {
            "column_3cd0da0080": {
             "name": "TOTAL_REVENUE",
             "yAxis": 0
            }
           },
           "showDataLabels": false,
           "sizemode": "diameter",
           "sortX": true,
           "sortY": true,
           "swappedAxes": false,
           "textFormat": "",
           "useAggregationsUi": true,
           "valuesOptions": {},
           "version": 2,
           "xAxis": {
            "labels": {
             "enabled": true
            },
            "type": "-"
           },
           "yAxis": [
            {
             "type": "-"
            },
            {
             "opposite": true,
             "type": "-"
            }
           ]
          }
         }
        ]
       },
       "datasetPreviewNameToCmdIdMap": {},
       "diffDeletes": [],
       "diffInserts": [],
       "displayType": "redashChart",
       "error": null,
       "errorDetails": null,
       "errorSummary": null,
       "errorTraceType": null,
       "finishTime": 0,
       "globalVars": {},
       "guid": "",
       "height": "auto",
       "hideCommandCode": false,
       "hideCommandResult": false,
       "iPythonMetadata": null,
       "inputWidgets": {},
       "isLockedInExamMode": false,
       "latestUser": "a user",
       "latestUserId": null,
       "listResultMetadata": null,
       "metadata": {},
       "nuid": "9b6d05a7-fd29-4625-8b06-4ac70350d912",
       "origId": 0,
       "parentHierarchy": [],
       "pivotAggregation": null,
       "pivotColumns": null,
       "position": 130.5,
       "resultDbfsErrorMessage": null,
       "resultDbfsStatus": "INLINED_IN_TREE",
       "results": null,
       "showCommandTitle": false,
       "startTime": 0,
       "state": "input",
       "streamStates": {},
       "subcommandOptions": {
        "queryPlan": {
         "groups": [
          {
           "column": "TRANSACTION_DATE",
           "type": "column"
          },
          {
           "column": "PRODUCT_ID",
           "type": "column"
          }
         ],
         "selects": [
          {
           "column": "TRANSACTION_DATE",
           "type": "column"
          },
          {
           "column": "PRODUCT_ID",
           "type": "column"
          },
          {
           "alias": "column_3cd0da0080",
           "args": [
            {
             "column": "TOTAL_REVENUE",
             "type": "column"
            }
           ],
           "function": "SUM",
           "type": "function"
          }
         ]
        }
       },
       "submitTime": 0,
       "subtype": "tableResultSubCmd.visualization",
       "tableResultIndex": 0,
       "tableResultSettingsMap": {},
       "useConsistentColors": false,
       "version": "CommandV1",
       "width": "auto",
       "workflows": [],
       "xColumns": null,
       "yColumns": null
      }
     },
     "output_type": "display_data"
    }
   ],
   "source": [
    "%sql\n",
    "SELECT TRANSACTION_DATE, PRODUCT_ID, SUM(PRICE * QUANTITY) AS TOTAL_REVENUE \n",
    "FROM sales_transactions \n",
    "GROUP BY 1, 2\n",
    "ORDER BY 2;"
   ]
  },
  {
   "cell_type": "code",
   "execution_count": 0,
   "metadata": {
    "application/vnd.databricks.v1+cell": {
     "cellMetadata": {
      "byteLimit": 2048000,
      "rowLimit": 10000
     },
     "inputWidgets": {},
     "nuid": "dcb5742c-7813-4e7a-9a1e-49f24e880ddc",
     "showTitle": false,
     "tableResultSettingsMap": {},
     "title": ""
    }
   },
   "outputs": [],
   "source": [
    "# Define Unity Catalog table name\n",
    "table_name = \"databricks_practicals_new.default.sales_revenue\"\n",
    "\n",
    "# Write the results to Unity Catalog directly\n",
    "revenue_df.write.format(\"delta\").mode(\"overwrite\").saveAsTable(table_name)\n"
   ]
  },
  {
   "cell_type": "code",
   "execution_count": 0,
   "metadata": {
    "application/vnd.databricks.v1+cell": {
     "cellMetadata": {
      "byteLimit": 2048000,
      "implicitDf": true,
      "rowLimit": 10000
     },
     "inputWidgets": {},
     "nuid": "05b6f4ee-b76c-44d2-9a6d-276b36d250d2",
     "showTitle": false,
     "tableResultSettingsMap": {},
     "title": ""
    }
   },
   "outputs": [
    {
     "output_type": "display_data",
     "data": {
      "text/html": [
       "<style scoped>\n",
       "  .table-result-container {\n",
       "    max-height: 300px;\n",
       "    overflow: auto;\n",
       "  }\n",
       "  table, th, td {\n",
       "    border: 1px solid black;\n",
       "    border-collapse: collapse;\n",
       "  }\n",
       "  th, td {\n",
       "    padding: 5px;\n",
       "  }\n",
       "  th {\n",
       "    text-align: left;\n",
       "  }\n",
       "</style><div class='table-result-container'><table class='table-result'><thead style='background-color: white'><tr><th>transaction_date</th><th>product_id</th><th>total_revenue</th></tr></thead><tbody><tr><td>2024-02-02</td><td>P002</td><td>59.98</td></tr><tr><td>2024-02-02</td><td>P004</td><td>77.45</td></tr></tbody></table></div>"
      ]
     },
     "metadata": {
      "application/vnd.databricks.v1+output": {
       "addedWidgets": {},
       "aggData": [],
       "aggError": "",
       "aggOverflow": false,
       "aggSchema": [],
       "aggSeriesLimitReached": false,
       "aggType": "",
       "arguments": {},
       "columnCustomDisplayInfos": {},
       "data": [
        [
         "2024-02-02",
         "P002",
         "59.98"
        ],
        [
         "2024-02-02",
         "P004",
         "77.45"
        ]
       ],
       "datasetInfos": [],
       "dbfsResultPath": null,
       "isJsonSchema": true,
       "metadata": {
        "createTempViewForImplicitDf": true,
        "dataframeName": "_sqldf",
        "executionCount": 20
       },
       "overflow": false,
       "plotOptions": {
        "customPlotOptions": {},
        "displayType": "table",
        "pivotAggregation": null,
        "pivotColumns": null,
        "xColumns": null,
        "yColumns": null
       },
       "removedWidgets": [],
       "schema": [
        {
         "metadata": "{\"comment\":\"Date of the transaction\"}",
         "name": "transaction_date",
         "type": "\"date\""
        },
        {
         "metadata": "{\"comment\":\"Product identifier\"}",
         "name": "product_id",
         "type": "\"string\""
        },
        {
         "metadata": "{}",
         "name": "total_revenue",
         "type": "\"decimal(31,2)\""
        }
       ],
       "type": "table"
      }
     },
     "output_type": "display_data"
    }
   ],
   "source": [
    "%sql\n",
    "SELECT * FROM databricks_practicals_new.default.sales_revenue WHERE transaction_date = '2024-02-2';\n"
   ]
  },
  {
   "cell_type": "markdown",
   "metadata": {
    "application/vnd.databricks.v1+cell": {
     "cellMetadata": {},
     "inputWidgets": {},
     "nuid": "61bde785-e360-4090-a958-3fd13acf8798",
     "showTitle": false,
     "tableResultSettingsMap": {},
     "title": ""
    }
   },
   "source": [
    "#### 16. Result count for each join\n"
   ]
  },
  {
   "cell_type": "code",
   "execution_count": 0,
   "metadata": {
    "application/vnd.databricks.v1+cell": {
     "cellMetadata": {
      "byteLimit": 2048000,
      "implicitDf": true,
      "rowLimit": 10000
     },
     "inputWidgets": {},
     "nuid": "576159c7-7a32-4856-bddd-c07b95481049",
     "showTitle": false,
     "tableResultSettingsMap": {},
     "title": ""
    }
   },
   "outputs": [
    {
     "output_type": "display_data",
     "data": {
      "text/html": [
       "<style scoped>\n",
       "  .table-result-container {\n",
       "    max-height: 300px;\n",
       "    overflow: auto;\n",
       "  }\n",
       "  table, th, td {\n",
       "    border: 1px solid black;\n",
       "    border-collapse: collapse;\n",
       "  }\n",
       "  th, td {\n",
       "    padding: 5px;\n",
       "  }\n",
       "  th {\n",
       "    text-align: left;\n",
       "  }\n",
       "</style><div class='table-result-container'><table class='table-result'><thead style='background-color: white'><tr><th>num_affected_rows</th><th>num_inserted_rows</th></tr></thead><tbody><tr><td>5</td><td>5</td></tr></tbody></table></div>"
      ]
     },
     "metadata": {
      "application/vnd.databricks.v1+output": {
       "addedWidgets": {},
       "aggData": [],
       "aggError": "",
       "aggOverflow": false,
       "aggSchema": [],
       "aggSeriesLimitReached": false,
       "aggType": "",
       "arguments": {},
       "columnCustomDisplayInfos": {},
       "data": [
        [
         5,
         5
        ]
       ],
       "datasetInfos": [],
       "dbfsResultPath": null,
       "isJsonSchema": true,
       "metadata": {
        "createTempViewForImplicitDf": true,
        "dataframeName": "_sqldf",
        "executionCount": 24
       },
       "overflow": false,
       "plotOptions": {
        "customPlotOptions": {},
        "displayType": "table",
        "pivotAggregation": null,
        "pivotColumns": null,
        "xColumns": null,
        "yColumns": null
       },
       "removedWidgets": [],
       "schema": [
        {
         "metadata": "{}",
         "name": "num_affected_rows",
         "type": "\"long\""
        },
        {
         "metadata": "{}",
         "name": "num_inserted_rows",
         "type": "\"long\""
        }
       ],
       "type": "table"
      }
     },
     "output_type": "display_data"
    }
   ],
   "source": [
    "%sql\n",
    "CREATE TABLE table1 (\n",
    "    col INT\n",
    ");\n",
    "\n",
    "\n",
    "INSERT INTO table1 VALUES\n",
    "    (1),\n",
    "    (2),\n",
    "    (3),\n",
    "    (5),\n",
    "    (NULL);"
   ]
  },
  {
   "cell_type": "code",
   "execution_count": 0,
   "metadata": {
    "application/vnd.databricks.v1+cell": {
     "cellMetadata": {
      "byteLimit": 2048000,
      "implicitDf": true,
      "rowLimit": 10000
     },
     "inputWidgets": {},
     "nuid": "090420a9-725a-4af9-ba0a-4740757e8e78",
     "showTitle": false,
     "tableResultSettingsMap": {},
     "title": ""
    }
   },
   "outputs": [
    {
     "output_type": "display_data",
     "data": {
      "text/html": [
       "<style scoped>\n",
       "  .table-result-container {\n",
       "    max-height: 300px;\n",
       "    overflow: auto;\n",
       "  }\n",
       "  table, th, td {\n",
       "    border: 1px solid black;\n",
       "    border-collapse: collapse;\n",
       "  }\n",
       "  th, td {\n",
       "    padding: 5px;\n",
       "  }\n",
       "  th {\n",
       "    text-align: left;\n",
       "  }\n",
       "</style><div class='table-result-container'><table class='table-result'><thead style='background-color: white'><tr><th>num_affected_rows</th><th>num_inserted_rows</th></tr></thead><tbody><tr><td>5</td><td>5</td></tr></tbody></table></div>"
      ]
     },
     "metadata": {
      "application/vnd.databricks.v1+output": {
       "addedWidgets": {},
       "aggData": [],
       "aggError": "",
       "aggOverflow": false,
       "aggSchema": [],
       "aggSeriesLimitReached": false,
       "aggType": "",
       "arguments": {},
       "columnCustomDisplayInfos": {},
       "data": [
        [
         5,
         5
        ]
       ],
       "datasetInfos": [],
       "dbfsResultPath": null,
       "isJsonSchema": true,
       "metadata": {
        "createTempViewForImplicitDf": true,
        "dataframeName": "_sqldf",
        "executionCount": 25
       },
       "overflow": false,
       "plotOptions": {
        "customPlotOptions": {},
        "displayType": "table",
        "pivotAggregation": null,
        "pivotColumns": null,
        "xColumns": null,
        "yColumns": null
       },
       "removedWidgets": [],
       "schema": [
        {
         "metadata": "{}",
         "name": "num_affected_rows",
         "type": "\"long\""
        },
        {
         "metadata": "{}",
         "name": "num_inserted_rows",
         "type": "\"long\""
        }
       ],
       "type": "table"
      }
     },
     "output_type": "display_data"
    }
   ],
   "source": [
    "%sql\n",
    "CREATE TABLE table2 (\n",
    "    col INT\n",
    ");\n",
    "\n",
    "INSERT INTO table2 VALUES\n",
    "    (1),\n",
    "    (1),\n",
    "    (2),\n",
    "    (4),\n",
    "    (6);"
   ]
  },
  {
   "cell_type": "code",
   "execution_count": 0,
   "metadata": {
    "application/vnd.databricks.v1+cell": {
     "cellMetadata": {
      "byteLimit": 2048000,
      "implicitDf": true,
      "rowLimit": 10000
     },
     "inputWidgets": {},
     "nuid": "5d762b6b-b78f-4459-83cc-f42fd8b17768",
     "showTitle": false,
     "tableResultSettingsMap": {},
     "title": ""
    }
   },
   "outputs": [
    {
     "output_type": "display_data",
     "data": {
      "text/html": [
       "<style scoped>\n",
       "  .table-result-container {\n",
       "    max-height: 300px;\n",
       "    overflow: auto;\n",
       "  }\n",
       "  table, th, td {\n",
       "    border: 1px solid black;\n",
       "    border-collapse: collapse;\n",
       "  }\n",
       "  th, td {\n",
       "    padding: 5px;\n",
       "  }\n",
       "  th {\n",
       "    text-align: left;\n",
       "  }\n",
       "</style><div class='table-result-container'><table class='table-result'><thead style='background-color: white'><tr><th>col</th><th>col</th></tr></thead><tbody><tr><td>1</td><td>1</td></tr><tr><td>2</td><td>2</td></tr><tr><td>1</td><td>1</td></tr></tbody></table></div>"
      ]
     },
     "metadata": {
      "application/vnd.databricks.v1+output": {
       "addedWidgets": {},
       "aggData": [],
       "aggError": "",
       "aggOverflow": false,
       "aggSchema": [],
       "aggSeriesLimitReached": false,
       "aggType": "",
       "arguments": {},
       "columnCustomDisplayInfos": {},
       "data": [
        [
         1,
         1
        ],
        [
         2,
         2
        ],
        [
         1,
         1
        ]
       ],
       "datasetInfos": [],
       "dbfsResultPath": null,
       "isJsonSchema": true,
       "metadata": {
        "createTempViewForImplicitDf": true,
        "dataframeName": "_sqldf",
        "executionCount": 26
       },
       "overflow": false,
       "plotOptions": {
        "customPlotOptions": {},
        "displayType": "table",
        "pivotAggregation": null,
        "pivotColumns": null,
        "xColumns": null,
        "yColumns": null
       },
       "removedWidgets": [],
       "schema": [
        {
         "metadata": "{}",
         "name": "col",
         "type": "\"integer\""
        },
        {
         "metadata": "{}",
         "name": "col",
         "type": "\"integer\""
        }
       ],
       "type": "table"
      }
     },
     "output_type": "display_data"
    }
   ],
   "source": [
    "%sql\n",
    "SELECT * FROM table1 INNER JOIN table2 ON table1.col = table2.col;\n"
   ]
  },
  {
   "cell_type": "code",
   "execution_count": 0,
   "metadata": {
    "application/vnd.databricks.v1+cell": {
     "cellMetadata": {
      "byteLimit": 2048000,
      "implicitDf": true,
      "rowLimit": 10000
     },
     "inputWidgets": {},
     "nuid": "70c5b21a-e9df-4b13-b4d2-2be69909ba51",
     "showTitle": false,
     "tableResultSettingsMap": {},
     "title": ""
    }
   },
   "outputs": [
    {
     "output_type": "display_data",
     "data": {
      "text/html": [
       "<style scoped>\n",
       "  .table-result-container {\n",
       "    max-height: 300px;\n",
       "    overflow: auto;\n",
       "  }\n",
       "  table, th, td {\n",
       "    border: 1px solid black;\n",
       "    border-collapse: collapse;\n",
       "  }\n",
       "  th, td {\n",
       "    padding: 5px;\n",
       "  }\n",
       "  th {\n",
       "    text-align: left;\n",
       "  }\n",
       "</style><div class='table-result-container'><table class='table-result'><thead style='background-color: white'><tr><th>col</th><th>col</th></tr></thead><tbody><tr><td>1</td><td>1</td></tr><tr><td>2</td><td>2</td></tr><tr><td>3</td><td>null</td></tr><tr><td>5</td><td>null</td></tr><tr><td>null</td><td>null</td></tr><tr><td>1</td><td>1</td></tr></tbody></table></div>"
      ]
     },
     "metadata": {
      "application/vnd.databricks.v1+output": {
       "addedWidgets": {},
       "aggData": [],
       "aggError": "",
       "aggOverflow": false,
       "aggSchema": [],
       "aggSeriesLimitReached": false,
       "aggType": "",
       "arguments": {},
       "columnCustomDisplayInfos": {},
       "data": [
        [
         1,
         1
        ],
        [
         2,
         2
        ],
        [
         3,
         null
        ],
        [
         5,
         null
        ],
        [
         null,
         null
        ],
        [
         1,
         1
        ]
       ],
       "datasetInfos": [],
       "dbfsResultPath": null,
       "isJsonSchema": true,
       "metadata": {
        "createTempViewForImplicitDf": true,
        "dataframeName": "_sqldf",
        "executionCount": 27
       },
       "overflow": false,
       "plotOptions": {
        "customPlotOptions": {},
        "displayType": "table",
        "pivotAggregation": null,
        "pivotColumns": null,
        "xColumns": null,
        "yColumns": null
       },
       "removedWidgets": [],
       "schema": [
        {
         "metadata": "{}",
         "name": "col",
         "type": "\"integer\""
        },
        {
         "metadata": "{}",
         "name": "col",
         "type": "\"integer\""
        }
       ],
       "type": "table"
      }
     },
     "output_type": "display_data"
    }
   ],
   "source": [
    "%sql\n",
    "SELECT * FROM table1 LEFT JOIN table2 ON table1.col = table2.col;\n"
   ]
  },
  {
   "cell_type": "code",
   "execution_count": 0,
   "metadata": {
    "application/vnd.databricks.v1+cell": {
     "cellMetadata": {
      "byteLimit": 2048000,
      "implicitDf": true,
      "rowLimit": 10000
     },
     "inputWidgets": {},
     "nuid": "a18c5634-669d-4599-9615-f6c5f0a1ca41",
     "showTitle": false,
     "tableResultSettingsMap": {},
     "title": ""
    }
   },
   "outputs": [
    {
     "output_type": "display_data",
     "data": {
      "text/html": [
       "<style scoped>\n",
       "  .table-result-container {\n",
       "    max-height: 300px;\n",
       "    overflow: auto;\n",
       "  }\n",
       "  table, th, td {\n",
       "    border: 1px solid black;\n",
       "    border-collapse: collapse;\n",
       "  }\n",
       "  th, td {\n",
       "    padding: 5px;\n",
       "  }\n",
       "  th {\n",
       "    text-align: left;\n",
       "  }\n",
       "</style><div class='table-result-container'><table class='table-result'><thead style='background-color: white'><tr><th>col</th><th>col</th></tr></thead><tbody><tr><td>1</td><td>1</td></tr><tr><td>1</td><td>1</td></tr><tr><td>2</td><td>2</td></tr><tr><td>null</td><td>6</td></tr><tr><td>null</td><td>4</td></tr></tbody></table></div>"
      ]
     },
     "metadata": {
      "application/vnd.databricks.v1+output": {
       "addedWidgets": {},
       "aggData": [],
       "aggError": "",
       "aggOverflow": false,
       "aggSchema": [],
       "aggSeriesLimitReached": false,
       "aggType": "",
       "arguments": {},
       "columnCustomDisplayInfos": {},
       "data": [
        [
         1,
         1
        ],
        [
         1,
         1
        ],
        [
         2,
         2
        ],
        [
         null,
         6
        ],
        [
         null,
         4
        ]
       ],
       "datasetInfos": [],
       "dbfsResultPath": null,
       "isJsonSchema": true,
       "metadata": {
        "createTempViewForImplicitDf": true,
        "dataframeName": "_sqldf",
        "executionCount": 28
       },
       "overflow": false,
       "plotOptions": {
        "customPlotOptions": {},
        "displayType": "table",
        "pivotAggregation": null,
        "pivotColumns": null,
        "xColumns": null,
        "yColumns": null
       },
       "removedWidgets": [],
       "schema": [
        {
         "metadata": "{}",
         "name": "col",
         "type": "\"integer\""
        },
        {
         "metadata": "{}",
         "name": "col",
         "type": "\"integer\""
        }
       ],
       "type": "table"
      }
     },
     "output_type": "display_data"
    }
   ],
   "source": [
    "%sql\n",
    "SELECT * FROM table1 RIGHT JOIN table2 ON table1.col = table2.col;\n"
   ]
  },
  {
   "cell_type": "code",
   "execution_count": 0,
   "metadata": {
    "application/vnd.databricks.v1+cell": {
     "cellMetadata": {
      "byteLimit": 2048000,
      "implicitDf": true,
      "rowLimit": 10000
     },
     "inputWidgets": {},
     "nuid": "b274ed5a-ff88-4938-958e-c619c6b4947e",
     "showTitle": false,
     "tableResultSettingsMap": {},
     "title": ""
    }
   },
   "outputs": [
    {
     "output_type": "display_data",
     "data": {
      "text/html": [
       "<style scoped>\n",
       "  .table-result-container {\n",
       "    max-height: 300px;\n",
       "    overflow: auto;\n",
       "  }\n",
       "  table, th, td {\n",
       "    border: 1px solid black;\n",
       "    border-collapse: collapse;\n",
       "  }\n",
       "  th, td {\n",
       "    padding: 5px;\n",
       "  }\n",
       "  th {\n",
       "    text-align: left;\n",
       "  }\n",
       "</style><div class='table-result-container'><table class='table-result'><thead style='background-color: white'><tr><th>col</th><th>col</th></tr></thead><tbody><tr><td>1</td><td>1</td></tr><tr><td>2</td><td>2</td></tr><tr><td>null</td><td>null</td></tr><tr><td>3</td><td>null</td></tr><tr><td>5</td><td>null</td></tr><tr><td>1</td><td>1</td></tr><tr><td>null</td><td>6</td></tr><tr><td>null</td><td>4</td></tr></tbody></table></div>"
      ]
     },
     "metadata": {
      "application/vnd.databricks.v1+output": {
       "addedWidgets": {},
       "aggData": [],
       "aggError": "",
       "aggOverflow": false,
       "aggSchema": [],
       "aggSeriesLimitReached": false,
       "aggType": "",
       "arguments": {},
       "columnCustomDisplayInfos": {},
       "data": [
        [
         1,
         1
        ],
        [
         2,
         2
        ],
        [
         null,
         null
        ],
        [
         3,
         null
        ],
        [
         5,
         null
        ],
        [
         1,
         1
        ],
        [
         null,
         6
        ],
        [
         null,
         4
        ]
       ],
       "datasetInfos": [],
       "dbfsResultPath": null,
       "isJsonSchema": true,
       "metadata": {
        "createTempViewForImplicitDf": true,
        "dataframeName": "_sqldf",
        "executionCount": 29
       },
       "overflow": false,
       "plotOptions": {
        "customPlotOptions": {},
        "displayType": "table",
        "pivotAggregation": null,
        "pivotColumns": null,
        "xColumns": null,
        "yColumns": null
       },
       "removedWidgets": [],
       "schema": [
        {
         "metadata": "{}",
         "name": "col",
         "type": "\"integer\""
        },
        {
         "metadata": "{}",
         "name": "col",
         "type": "\"integer\""
        }
       ],
       "type": "table"
      }
     },
     "output_type": "display_data"
    }
   ],
   "source": [
    "%sql\n",
    "SELECT * FROM table1 FULL OUTER JOIN table2 ON table1.col = table2.col;"
   ]
  },
  {
   "cell_type": "code",
   "execution_count": 0,
   "metadata": {
    "application/vnd.databricks.v1+cell": {
     "cellMetadata": {
      "byteLimit": 2048000,
      "implicitDf": true,
      "rowLimit": 10000
     },
     "inputWidgets": {},
     "nuid": "cf0b1e92-b51f-4e06-80c1-7880a669f021",
     "showTitle": false,
     "tableResultSettingsMap": {},
     "title": ""
    }
   },
   "outputs": [
    {
     "output_type": "display_data",
     "data": {
      "text/html": [
       "<style scoped>\n",
       "  .table-result-container {\n",
       "    max-height: 300px;\n",
       "    overflow: auto;\n",
       "  }\n",
       "  table, th, td {\n",
       "    border: 1px solid black;\n",
       "    border-collapse: collapse;\n",
       "  }\n",
       "  th, td {\n",
       "    padding: 5px;\n",
       "  }\n",
       "  th {\n",
       "    text-align: left;\n",
       "  }\n",
       "</style><div class='table-result-container'><table class='table-result'><thead style='background-color: white'><tr><th>col</th></tr></thead><tbody><tr><td>3</td></tr><tr><td>5</td></tr><tr><td>null</td></tr></tbody></table></div>"
      ]
     },
     "metadata": {
      "application/vnd.databricks.v1+output": {
       "addedWidgets": {},
       "aggData": [],
       "aggError": "",
       "aggOverflow": false,
       "aggSchema": [],
       "aggSeriesLimitReached": false,
       "aggType": "",
       "arguments": {},
       "columnCustomDisplayInfos": {},
       "data": [
        [
         3
        ],
        [
         5
        ],
        [
         null
        ]
       ],
       "datasetInfos": [],
       "dbfsResultPath": null,
       "isJsonSchema": true,
       "metadata": {
        "createTempViewForImplicitDf": true,
        "dataframeName": "_sqldf",
        "executionCount": 30
       },
       "overflow": false,
       "plotOptions": {
        "customPlotOptions": {},
        "displayType": "table",
        "pivotAggregation": null,
        "pivotColumns": null,
        "xColumns": null,
        "yColumns": null
       },
       "removedWidgets": [],
       "schema": [
        {
         "metadata": "{}",
         "name": "col",
         "type": "\"integer\""
        }
       ],
       "type": "table"
      }
     },
     "output_type": "display_data"
    }
   ],
   "source": [
    "%sql\n",
    "SELECT * FROM table1 LEFT ANTI JOIN table2 ON table1.col = table2.col;"
   ]
  },
  {
   "cell_type": "markdown",
   "metadata": {
    "application/vnd.databricks.v1+cell": {
     "cellMetadata": {},
     "inputWidgets": {},
     "nuid": "a62dfb0e-0339-439c-8981-dbb6197398e1",
     "showTitle": false,
     "tableResultSettingsMap": {},
     "title": ""
    }
   },
   "source": [
    "#### 22. Sort without built-in fucntion in ascending order \n"
   ]
  },
  {
   "cell_type": "code",
   "execution_count": 0,
   "metadata": {
    "application/vnd.databricks.v1+cell": {
     "cellMetadata": {
      "byteLimit": 2048000,
      "rowLimit": 10000
     },
     "inputWidgets": {},
     "nuid": "f8e743d0-2978-408c-ad16-faeb55db556c",
     "showTitle": false,
     "tableResultSettingsMap": {},
     "title": ""
    }
   },
   "outputs": [
    {
     "output_type": "stream",
     "name": "stdout",
     "output_type": "stream",
     "text": [
      "Sorted List: [1, 2, 3, 11, 12, 22, 23, 25, 34, 44, 64, 122]\n"
     ]
    }
   ],
   "source": [
    "l = [64, 25, 12, 22, 11, 1, 2, 44, 3, 122, 23, 34]\n",
    "\n",
    "# Selection Sort Algorithm\n",
    "for i in range(len(l)):\n",
    "    min_index = i\n",
    "    for j in range(i + 1, len(l)):\n",
    "        if l[j] < l[min_index]:  # Find the smallest element\n",
    "            min_index = j\n",
    "    l[i], l[min_index] = l[min_index], l[i]  # Swap elements\n",
    "\n",
    "print(\"Sorted List:\", l)\n"
   ]
  },
  {
   "cell_type": "markdown",
   "metadata": {
    "application/vnd.databricks.v1+cell": {
     "cellMetadata": {},
     "inputWidgets": {},
     "nuid": "6ba5434f-3098-4313-a552-ba2ee11e07c5",
     "showTitle": false,
     "tableResultSettingsMap": {},
     "title": ""
    }
   },
   "source": [
    "#### 24. If we are having 10k records with duplicates and 9k records after removing duplicates how can we identify that these are the correct records after removing duplicates"
   ]
  },
  {
   "cell_type": "code",
   "execution_count": 0,
   "metadata": {
    "application/vnd.databricks.v1+cell": {
     "cellMetadata": {
      "byteLimit": 2048000,
      "rowLimit": 10000
     },
     "inputWidgets": {},
     "nuid": "d11d71a4-525b-4782-a91c-9ca916b85d0b",
     "showTitle": false,
     "tableResultSettingsMap": {},
     "title": ""
    }
   },
   "outputs": [
    {
     "output_type": "stream",
     "name": "stdout",
     "output_type": "stream",
     "text": [
      "+---+-------+\n| id|   name|\n+---+-------+\n|  1|  Alice|\n|  2|    Bob|\n|  3|Charlie|\n|  4|  David|\n|  5|    Eve|\n|  1|  Alice|\n|  2|    Bob|\n|  6|  Frank|\n|  7|  Grace|\n|  8| Hannah|\n|  9|  Isaac|\n| 10|   Jack|\n| 10|   Jack|\n+---+-------+\n\n"
     ]
    }
   ],
   "source": [
    "from pyspark.sql.types import *\n",
    "\n",
    "# Sample data with duplicates\n",
    "data = [\n",
    "    (1, \"Alice\"),\n",
    "    (2, \"Bob\"),\n",
    "    (3, \"Charlie\"),\n",
    "    (4, \"David\"),\n",
    "    (5, \"Eve\"),\n",
    "    (1, \"Alice\"),  # Duplicate\n",
    "    (2, \"Bob\"),    # Duplicate\n",
    "    (6, \"Frank\"),\n",
    "    (7, \"Grace\"),\n",
    "    (8, \"Hannah\"),\n",
    "    (9, \"Isaac\"),\n",
    "    (10, \"Jack\"),\n",
    "    (10, \"Jack\")   # Duplicate\n",
    "]\n",
    "\n",
    "# Define schema\n",
    "schema = StructType([\n",
    "    StructField(\"id\", IntegerType(), True),\n",
    "    StructField(\"name\", StringType(), True)\n",
    "])\n",
    "\n",
    "# Create DataFrame\n",
    "sample_df = spark.createDataFrame(data, schema)\n",
    "\n",
    "# Show DataFrame\n",
    "sample_df.show()"
   ]
  },
  {
   "cell_type": "code",
   "execution_count": 0,
   "metadata": {
    "application/vnd.databricks.v1+cell": {
     "cellMetadata": {
      "byteLimit": 2048000,
      "rowLimit": 10000
     },
     "inputWidgets": {},
     "nuid": "187dbfa9-95b4-4656-a4fb-13c3aff2e2c4",
     "showTitle": false,
     "tableResultSettingsMap": {},
     "title": ""
    }
   },
   "outputs": [
    {
     "output_type": "stream",
     "name": "stdout",
     "output_type": "stream",
     "text": [
      "Total records before removing duplicates: 13\n"
     ]
    }
   ],
   "source": [
    "print(f\"Total records before removing duplicates: {sample_df.count()}\")"
   ]
  },
  {
   "cell_type": "code",
   "execution_count": 0,
   "metadata": {
    "application/vnd.databricks.v1+cell": {
     "cellMetadata": {
      "byteLimit": 2048000,
      "rowLimit": 10000
     },
     "inputWidgets": {},
     "nuid": "46e4235d-0c8c-4813-94e9-247144cab94d",
     "showTitle": false,
     "tableResultSettingsMap": {},
     "title": ""
    }
   },
   "outputs": [
    {
     "output_type": "stream",
     "name": "stdout",
     "output_type": "stream",
     "text": [
      "+---+-------+\n| id|   name|\n+---+-------+\n|  2|    Bob|\n|  1|  Alice|\n|  3|Charlie|\n|  4|  David|\n|  5|    Eve|\n|  7|  Grace|\n|  6|  Frank|\n|  8| Hannah|\n| 10|   Jack|\n|  9|  Isaac|\n+---+-------+\n\nTotal records after removing duplicates: 10\n"
     ]
    }
   ],
   "source": [
    "df_unique = sample_df.dropDuplicates()\n",
    "df_unique.show()\n",
    "print(f\"Total records after removing duplicates: {df_unique.count()}\")"
   ]
  },
  {
   "cell_type": "code",
   "execution_count": 0,
   "metadata": {
    "application/vnd.databricks.v1+cell": {
     "cellMetadata": {
      "byteLimit": 2048000,
      "rowLimit": 10000
     },
     "inputWidgets": {},
     "nuid": "bcd58743-7c2d-4a37-9bce-6f7ff5243fbe",
     "showTitle": false,
     "tableResultSettingsMap": {},
     "title": ""
    }
   },
   "outputs": [
    {
     "output_type": "stream",
     "name": "stdout",
     "output_type": "stream",
     "text": [
      "+---+-----+\n| id| name|\n+---+-----+\n|  2|  Bob|\n|  1|Alice|\n| 10| Jack|\n+---+-----+\n\n"
     ]
    }
   ],
   "source": [
    "df_duplicates = sample_df.exceptAll(df_unique)\n",
    "df_duplicates.show()"
   ]
  },
  {
   "cell_type": "markdown",
   "metadata": {
    "application/vnd.databricks.v1+cell": {
     "cellMetadata": {},
     "inputWidgets": {},
     "nuid": "e56a498b-6a0a-44ce-a299-be64729410dd",
     "showTitle": false,
     "tableResultSettingsMap": {},
     "title": ""
    }
   },
   "source": [
    "#### 26. Where do you import python boto library\n",
    "\n"
   ]
  },
  {
   "cell_type": "code",
   "execution_count": 0,
   "metadata": {
    "application/vnd.databricks.v1+cell": {
     "cellMetadata": {
      "byteLimit": 2048000,
      "rowLimit": 10000
     },
     "inputWidgets": {},
     "nuid": "51de1d10-f2da-489c-bf0e-b73614d981fb",
     "showTitle": false,
     "tableResultSettingsMap": {},
     "title": ""
    }
   },
   "outputs": [
    {
     "output_type": "stream",
     "name": "stdout",
     "output_type": "stream",
     "text": [
      "Requirement already satisfied: boto3 in /databricks/python3/lib/python3.11/site-packages (1.34.39)\nRequirement already satisfied: botocore<1.35.0,>=1.34.39 in /databricks/python3/lib/python3.11/site-packages (from boto3) (1.34.39)\nRequirement already satisfied: jmespath<2.0.0,>=0.7.1 in /databricks/python3/lib/python3.11/site-packages (from boto3) (0.10.0)\nRequirement already satisfied: s3transfer<0.11.0,>=0.10.0 in /databricks/python3/lib/python3.11/site-packages (from boto3) (0.10.1)\nRequirement already satisfied: python-dateutil<3.0.0,>=2.1 in /databricks/python3/lib/python3.11/site-packages (from botocore<1.35.0,>=1.34.39->boto3) (2.8.2)\nRequirement already satisfied: urllib3<2.1,>=1.25.4 in /databricks/python3/lib/python3.11/site-packages (from botocore<1.35.0,>=1.34.39->boto3) (1.26.16)\nRequirement already satisfied: six>=1.5 in /usr/lib/python3/dist-packages (from python-dateutil<3.0.0,>=2.1->botocore<1.35.0,>=1.34.39->boto3) (1.16.0)\n\u001B[43mNote: you may need to restart the kernel using %restart_python or dbutils.library.restartPython() to use updated packages.\u001B[0m\n"
     ]
    }
   ],
   "source": [
    "%pip install boto3"
   ]
  },
  {
   "cell_type": "code",
   "execution_count": 0,
   "metadata": {
    "application/vnd.databricks.v1+cell": {
     "cellMetadata": {
      "byteLimit": 2048000,
      "rowLimit": 10000
     },
     "inputWidgets": {},
     "nuid": "776cdbda-d11c-4318-a4bd-f8d83d3985e7",
     "showTitle": false,
     "tableResultSettingsMap": {},
     "title": ""
    }
   },
   "outputs": [
    {
     "output_type": "stream",
     "name": "stdout",
     "output_type": "stream",
     "text": [
      "abdul-demo-athena-ap-south-1\nabdul-dms-bucket\nabdul-snowflake-airflow\nabdul-snowflake-data\nabduldbtlearn\naws-glue-assets-727646464992-ap-southeast-1\naws-practical-boto-demo-14112024\naws-practical-demo-bucket-14112024\ncf-templates-18fzstqfiv1wk-ap-south-1\ndatabricks-workspace-stack-a57cc-bucket\ndatabricks-workspace-stack-a57cc-lambdazipsbucket-5kusfgp8jxa5\n"
     ]
    }
   ],
   "source": [
    "import boto3\n",
    "\n",
    "# Create an S3 client\n",
    "s3_client = boto3.client(\"s3\")\n",
    "\n",
    "# List all S3 buckets\n",
    "response = s3_client.list_buckets()\n",
    "\n",
    "# Print bucket names\n",
    "for bucket in response[\"Buckets\"]:\n",
    "    print(bucket[\"Name\"])\n"
   ]
  },
  {
   "cell_type": "markdown",
   "metadata": {
    "application/vnd.databricks.v1+cell": {
     "cellMetadata": {},
     "inputWidgets": {},
     "nuid": "7409f617-a7ec-4915-939b-05ddbbb50fee",
     "showTitle": false,
     "tableResultSettingsMap": {},
     "title": ""
    }
   },
   "source": [
    "#### 29. Find 2nd lowest salary per department using pyspark."
   ]
  },
  {
   "cell_type": "code",
   "execution_count": 0,
   "metadata": {
    "application/vnd.databricks.v1+cell": {
     "cellMetadata": {
      "byteLimit": 2048000,
      "rowLimit": 10000
     },
     "inputWidgets": {},
     "nuid": "e49cb95a-613d-487b-9faa-8beb8632c974",
     "showTitle": false,
     "tableResultSettingsMap": {},
     "title": ""
    }
   },
   "outputs": [
    {
     "output_type": "stream",
     "name": "stdout",
     "output_type": "stream",
     "text": [
      "+----------+-----------+----------+\n|department|   emp_name|emp_salary|\n+----------+-----------+----------+\n|   Finance|David Clark|   95000.0|\n|        HR| Lucy Green|   85000.0|\n|        IT|Chris Adams|   77000.0|\n| Marketing| Emma White|   68000.0|\n|     sales|    Mashood|   98000.0|\n+----------+-----------+----------+\n\n"
     ]
    }
   ],
   "source": [
    "from pyspark.sql.functions import *\n",
    "from pyspark.sql.window import *\n",
    "\n",
    "df_employees = spark.read.format(\"delta\").table(\"databricks_practicals_new.default.employees_table\")\n",
    "\n",
    "# Define Window Partitioned by Department, Ordered by Salary\n",
    "window_spec = Window.partitionBy(\"department\").orderBy(col(\"emp_salary\"))\n",
    "\n",
    "# Apply dense_rank() to rank salaries within each department\n",
    "df_ranked = df_employees.withColumn(\"rank\", dense_rank().over(window_spec))\n",
    "\n",
    "# Filter for the 2nd lowest salary (rank = 2)\n",
    "df_second_lowest = df_ranked.filter(col(\"rank\") == 2).select(\"department\", \"emp_name\", \"emp_salary\")\n",
    "\n",
    "# Show Result\n",
    "df_second_lowest.show()\n"
   ]
  },
  {
   "cell_type": "markdown",
   "metadata": {
    "application/vnd.databricks.v1+cell": {
     "cellMetadata": {},
     "inputWidgets": {},
     "nuid": "96d7b3b5-65a2-4381-94b4-e3cf694c1436",
     "showTitle": false,
     "tableResultSettingsMap": {},
     "title": ""
    }
   },
   "source": [
    "#### 30. Write an sql query to delete  a column from table\n"
   ]
  },
  {
   "cell_type": "code",
   "execution_count": 0,
   "metadata": {
    "application/vnd.databricks.v1+cell": {
     "cellMetadata": {},
     "inputWidgets": {},
     "nuid": "df8f11b4-7b5d-443e-ad9a-ec2ae93c215e",
     "showTitle": false,
     "tableResultSettingsMap": {},
     "title": ""
    }
   },
   "outputs": [],
   "source": [
    "%sql\n",
    "ALTER TABLE employees_table DROP COLUMN department;\n"
   ]
  },
  {
   "cell_type": "markdown",
   "metadata": {
    "application/vnd.databricks.v1+cell": {
     "cellMetadata": {},
     "inputWidgets": {},
     "nuid": "8f0f7005-b081-4689-aa61-80912ea94465",
     "showTitle": false,
     "tableResultSettingsMap": {},
     "title": ""
    }
   },
   "source": [
    "#### 32. Remove the rows that are having Null vaue and salary is less than 100?"
   ]
  },
  {
   "cell_type": "code",
   "execution_count": 0,
   "metadata": {
    "application/vnd.databricks.v1+cell": {
     "cellMetadata": {
      "byteLimit": 2048000,
      "rowLimit": 10000
     },
     "inputWidgets": {},
     "nuid": "792ec56c-a46b-4232-a350-17170eae1fb4",
     "showTitle": false,
     "tableResultSettingsMap": {},
     "title": ""
    }
   },
   "outputs": [
    {
     "output_type": "stream",
     "name": "stdout",
     "output_type": "stream",
     "text": [
      "+------+-----+---------+\n| ename|  sal|    dname|\n+------+-----+---------+\n| Ankit|14300|Analytics|\n| Vikas|12100|Analytics|\n| Rohit| 7260|Analytics|\n| Mohit|14000|       IT|\n|Mukesh| 7000|       HR|\n|Rakesh| 8000|       HR|\n|  NULL| NULL|     NULL|\n|   Abc|10000|     NULL|\n|  Abc1| NULL|       IT|\n|  Abc2| -100|       IT|\n+------+-----+---------+\n\n"
     ]
    }
   ],
   "source": [
    "data = [\n",
    "    (\"Ankit\", 14300, \"Analytics\"),\n",
    "    (\"Vikas\", 12100, \"Analytics\"),\n",
    "    (\"Rohit\", 7260, \"Analytics\"),\n",
    "    (\"Mohit\", 14000, \"IT\"),\n",
    "    (\"Mukesh\", 7000, \"HR\"),\n",
    "    (\"Rakesh\", 8000, \"HR\"),\n",
    "    (None, None, None),\n",
    "    (\"Abc\", 10000, None),\n",
    "    (\"Abc1\", None, \"IT\"),\n",
    "    (\"Abc2\", -100, \"IT\")\n",
    "]\n",
    "\n",
    "# Define schema\n",
    "columns = [\"ename\", \"sal\", \"dname\"]\n",
    "\n",
    "# Create DataFrame\n",
    "df_emp = spark.createDataFrame(data, columns)\n",
    "\n",
    "# Show original DataFrame\n",
    "df_emp.show()"
   ]
  },
  {
   "cell_type": "code",
   "execution_count": 0,
   "metadata": {
    "application/vnd.databricks.v1+cell": {
     "cellMetadata": {
      "byteLimit": 2048000,
      "rowLimit": 10000
     },
     "inputWidgets": {},
     "nuid": "e0d4babf-4421-4df5-aeb0-ecd7232315b5",
     "showTitle": false,
     "tableResultSettingsMap": {},
     "title": ""
    }
   },
   "outputs": [
    {
     "output_type": "stream",
     "name": "stdout",
     "output_type": "stream",
     "text": [
      "+------+-----+---------+\n| ename|  sal|    dname|\n+------+-----+---------+\n| Ankit|14300|Analytics|\n| Vikas|12100|Analytics|\n| Rohit| 7260|Analytics|\n| Mohit|14000|       IT|\n|Mukesh| 7000|       HR|\n|Rakesh| 8000|       HR|\n+------+-----+---------+\n\n"
     ]
    }
   ],
   "source": [
    "# Remove NULL values and salary < 100\n",
    "df_filtered = df_emp.dropna().filter(col(\"sal\") >= 100)\n",
    "\n",
    "# Show cleaned DataFrame\n",
    "df_filtered.show()"
   ]
  },
  {
   "cell_type": "markdown",
   "metadata": {
    "application/vnd.databricks.v1+cell": {
     "cellMetadata": {},
     "inputWidgets": {},
     "nuid": "9246210a-a521-42c2-a5b6-6bb407a7ba75",
     "showTitle": false,
     "tableResultSettingsMap": {},
     "title": ""
    }
   },
   "source": [
    "#### 33. Data Validation Before Loading to S3 in Databricks"
   ]
  },
  {
   "cell_type": "code",
   "execution_count": 0,
   "metadata": {
    "application/vnd.databricks.v1+cell": {
     "cellMetadata": {
      "byteLimit": 2048000,
      "rowLimit": 10000
     },
     "inputWidgets": {},
     "nuid": "907f62dd-efc5-4068-8d92-9012b855ece6",
     "showTitle": false,
     "tableResultSettingsMap": {},
     "title": ""
    }
   },
   "outputs": [],
   "source": [
    "# Schema Validation\n",
    "\n",
    "expected_schema = [\"id\", \"name\"]\n",
    "actual_schema = sample_df.columns\n",
    "\n",
    "if set(expected_schema) != set(actual_schema):\n",
    "    raise ValueError(\"Schema mismatch! Expected columns:\", expected_schema)"
   ]
  },
  {
   "cell_type": "code",
   "execution_count": 0,
   "metadata": {
    "application/vnd.databricks.v1+cell": {
     "cellMetadata": {
      "byteLimit": 2048000,
      "rowLimit": 10000
     },
     "inputWidgets": {},
     "nuid": "792e986f-f2e9-4299-861f-35acc3e02a2e",
     "showTitle": false,
     "tableResultSettingsMap": {},
     "title": ""
    }
   },
   "outputs": [
    {
     "output_type": "stream",
     "name": "stdout",
     "output_type": "stream",
     "text": [
      "+---+----+\n| id|name|\n+---+----+\n|  0|   0|\n+---+----+\n\n"
     ]
    }
   ],
   "source": [
    "# Check for Null Values\n",
    "\n",
    "null_counts = sample_df.select([col(c).isNull().alias(c) for c in [\"id\", \"name\"]]) \\\n",
    "    .agg(*[sum(col(c).cast(\"int\")).alias(c) for c in [\"id\", \"name\"]])\n",
    "\n",
    "# Show the result\n",
    "null_counts.show()"
   ]
  },
  {
   "cell_type": "code",
   "execution_count": 0,
   "metadata": {
    "application/vnd.databricks.v1+cell": {
     "cellMetadata": {
      "byteLimit": 2048000,
      "rowLimit": 10000
     },
     "inputWidgets": {},
     "nuid": "9e926237-92d6-40dd-b7ff-ad3e87544d4a",
     "showTitle": false,
     "tableResultSettingsMap": {},
     "title": ""
    }
   },
   "outputs": [],
   "source": [
    "# Remove Duplicates\n",
    "\n",
    "df_cleaned = sample_df.dropDuplicates()"
   ]
  },
  {
   "cell_type": "code",
   "execution_count": 0,
   "metadata": {
    "application/vnd.databricks.v1+cell": {
     "cellMetadata": {
      "byteLimit": 2048000,
      "rowLimit": 10000
     },
     "inputWidgets": {},
     "nuid": "4d992180-edee-4729-9fe4-e042da0a1085",
     "showTitle": false,
     "tableResultSettingsMap": {},
     "title": ""
    }
   },
   "outputs": [],
   "source": [
    "# Writing to S3 After Validation\n",
    "\n",
    "df_cleaned.write.mode(\"overwrite\").csv(\"s3a://abduldbtlearn/processed-data/\")"
   ]
  }
 ],
 "metadata": {
  "application/vnd.databricks.v1+notebook": {
   "computePreferences": null,
   "dashboards": [],
   "environmentMetadata": {
    "base_environment": "",
    "environment_version": "2"
   },
   "language": "python",
   "notebookMetadata": {
    "mostRecentlyExecutedCommandWithImplicitDF": {
     "commandId": 5917659978508582,
     "dataframes": [
      "_sqldf"
     ]
    },
    "pythonIndentUnit": 4,
    "widgetLayout": [
     {
      "breakBefore": false,
      "name": "country",
      "width": 197
     },
     {
      "breakBefore": false,
      "name": "user_name",
      "width": 197
     }
    ]
   },
   "notebookName": "Databricks_Practicals_Notebook",
   "widgets": {
    "country": {
     "currentValue": "India",
     "nuid": "85b316b5-747e-4e53-a1ca-4dc7f67ef330",
     "typedWidgetInfo": {
      "autoCreated": false,
      "defaultValue": "USA",
      "label": null,
      "name": "country",
      "options": {
       "widgetDisplayType": "Dropdown",
       "choices": [
        "USA",
        "India",
        "UK",
        "Canada"
       ],
       "fixedDomain": true,
       "multiselect": false
      },
      "parameterDataType": "String"
     },
     "widgetInfo": {
      "widgetType": "dropdown",
      "defaultValue": "USA",
      "label": null,
      "name": "country",
      "options": {
       "widgetType": "dropdown",
       "autoCreated": null,
       "choices": [
        "USA",
        "India",
        "UK",
        "Canada"
       ]
      }
     }
    },
    "user_name": {
     "currentValue": "Jawwad",
     "nuid": "7a43b21e-1349-4c40-8252-702e3f630541",
     "typedWidgetInfo": {
      "autoCreated": false,
      "defaultValue": "Enter your name",
      "label": null,
      "name": "user_name",
      "options": {
       "widgetDisplayType": "Text",
       "validationRegex": null
      },
      "parameterDataType": "String"
     },
     "widgetInfo": {
      "widgetType": "text",
      "defaultValue": "Enter your name",
      "label": null,
      "name": "user_name",
      "options": {
       "widgetType": "text",
       "autoCreated": null,
       "validationRegex": null
      }
     }
    }
   }
  },
  "language_info": {
   "name": "python"
  }
 },
 "nbformat": 4,
 "nbformat_minor": 0
}